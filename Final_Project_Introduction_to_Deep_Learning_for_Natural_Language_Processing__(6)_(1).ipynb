{
  "cells": [
    {
      "cell_type": "markdown",
      "metadata": {
        "id": "FjFRHwNMtcAH"
      },
      "source": [
        "**Introduction**\n",
        "\n",
        "In this project, my goal is to develop a robust multilabel classification model that predicts clothing product attributes based on consumer reviews. The dataset, sourced from various channels, comprises an extensive collection of apparel product reviews. Each data entry is meticulously annotated with labels representing materials, construction, color, finishing, and durability.\n",
        "\n",
        "The richness of perspectives and opinions within the dataset should enable us to explore and evaluate classification models effectively. Multilabel classification is essential for capturing the multifaceted nature of customer feedback, allowing the model to predict multiple categories for each review. Ultimately, this research contributes to advancing the application of machine learning algorithms in the fashion industry.\n",
        "\n",
        "**Author**: Julia Poteralska\n",
        "\n",
        "\n",
        "I will use the dataset from kaggle: https://www.kaggle.com/datasets/jocelyndumlao/consumer-review-of-clothing-product.\n",
        "\n",
        "---\n",
        "\n"
      ]
    },
    {
      "cell_type": "markdown",
      "metadata": {
        "id": "8TJPrAPruyhU"
      },
      "source": [
        "# How to run the code?"
      ]
    },
    {
      "cell_type": "markdown",
      "metadata": {
        "id": "Nmgt80z6vNYh"
      },
      "source": [
        "**Import libraries**"
      ]
    },
    {
      "cell_type": "code",
      "execution_count": null,
      "metadata": {
        "id": "u4TC2vxMtMxB"
      },
      "outputs": [],
      "source": [
        "%matplotlib inline\n",
        "import matplotlib.pyplot as plt\n",
        "import tensorflow as tf\n",
        "import numpy as np\n",
        "import pandas as pd\n",
        "\n",
        "from sklearn.model_selection import train_test_split\n",
        "from sklearn.utils import shuffle\n",
        "from sklearn.model_selection import ParameterGrid"
      ]
    },
    {
      "cell_type": "markdown",
      "metadata": {
        "id": "bHH81maivg20"
      },
      "source": [
        "**Mount the drive and change the directory**"
      ]
    },
    {
      "cell_type": "code",
      "execution_count": null,
      "metadata": {
        "colab": {
          "base_uri": "https://localhost:8080/"
        },
        "id": "kYtVLhk7vva1",
        "outputId": "45559ef6-097b-4940-cc8a-343c1056f5a2"
      },
      "outputs": [
        {
          "output_type": "stream",
          "name": "stdout",
          "text": [
            "Drive already mounted at /content/drive; to attempt to forcibly remount, call drive.mount(\"/content/drive\", force_remount=True).\n",
            "[Errno 2] No such file or directory: 'drive/MyDrive/Classroom/Introduction to Deep Learning for NLP (2024)'\n",
            "/content/drive/MyDrive/Classroom/Introduction to Deep Learning for NLP (2024)\n"
          ]
        }
      ],
      "source": [
        "from google.colab import drive\n",
        "drive.mount('/content/drive')\n",
        "\n",
        "%cd \"drive/MyDrive/Classroom/Introduction to Deep Learning for NLP (2024)\"\n",
        "# here you need to insert path to your current directory, where you keep the data"
      ]
    },
    {
      "cell_type": "markdown",
      "metadata": {
        "id": "cjOqwHQAE81G"
      },
      "source": [
        "**Load dataset**"
      ]
    },
    {
      "cell_type": "code",
      "execution_count": null,
      "metadata": {
        "id": "1eRQqR7Wvv6J"
      },
      "outputs": [],
      "source": [
        "ds = pd.read_csv('data_amazon.xlsx - Sheet1.csv') # write the name of your file"
      ]
    },
    {
      "cell_type": "markdown",
      "metadata": {
        "id": "ZAAFFGq4wKjc"
      },
      "source": [
        "# Input characteristics"
      ]
    },
    {
      "cell_type": "markdown",
      "metadata": {
        "id": "b22iUlyXvonm"
      },
      "source": [
        "**Explore dataset**\n",
        "\n",
        "Load the dataset and perform initial preprocessing steps, including handling missing values, combining text fields, and encoding labels. Explore the dataset to understand its structure and distribution. This includes visualizing the distribution of categories and analyzing the text data.\n"
      ]
    },
    {
      "cell_type": "code",
      "execution_count": null,
      "metadata": {
        "colab": {
          "base_uri": "https://localhost:8080/",
          "height": 241
        },
        "id": "PyB6freKeKnx",
        "outputId": "45e174c8-51fa-479b-f658-af8d6ab14c26"
      },
      "outputs": [
        {
          "output_type": "execute_result",
          "data": {
            "text/plain": [
              "                     Title                                             Review  \\\n",
              "0                      NaN  Absolutely wonderful - silky and sexy and comf...   \n",
              "1                      NaN  Love this dress!  it's sooo pretty.  i happene...   \n",
              "2  Some major design flaws  I had such high hopes for this dress and reall...   \n",
              "3         My favorite buy!  I love, love, love this jumpsuit. it's fun, fl...   \n",
              "4         Flattering shirt  This shirt is very flattering to all due to th...   \n",
              "\n",
              "   Cons_rating Cloth_class  Materials  Construction  Color  Finishing  \\\n",
              "0          4.0   Intimates        0.0           0.0    0.0        1.0   \n",
              "1          5.0     Dresses        0.0           1.0    0.0        0.0   \n",
              "2          3.0     Dresses        0.0           0.0    0.0        1.0   \n",
              "3          5.0       Pants        0.0           0.0    0.0        0.0   \n",
              "4          5.0     Blouses        0.0           1.0    0.0        0.0   \n",
              "\n",
              "   Durability  \n",
              "0         0.0  \n",
              "1         0.0  \n",
              "2         0.0  \n",
              "3         0.0  \n",
              "4         0.0  "
            ],
            "text/html": [
              "\n",
              "  <div id=\"df-ff5c59fd-6849-42ff-8d2d-290f5185eb7e\" class=\"colab-df-container\">\n",
              "    <div>\n",
              "<style scoped>\n",
              "    .dataframe tbody tr th:only-of-type {\n",
              "        vertical-align: middle;\n",
              "    }\n",
              "\n",
              "    .dataframe tbody tr th {\n",
              "        vertical-align: top;\n",
              "    }\n",
              "\n",
              "    .dataframe thead th {\n",
              "        text-align: right;\n",
              "    }\n",
              "</style>\n",
              "<table border=\"1\" class=\"dataframe\">\n",
              "  <thead>\n",
              "    <tr style=\"text-align: right;\">\n",
              "      <th></th>\n",
              "      <th>Title</th>\n",
              "      <th>Review</th>\n",
              "      <th>Cons_rating</th>\n",
              "      <th>Cloth_class</th>\n",
              "      <th>Materials</th>\n",
              "      <th>Construction</th>\n",
              "      <th>Color</th>\n",
              "      <th>Finishing</th>\n",
              "      <th>Durability</th>\n",
              "    </tr>\n",
              "  </thead>\n",
              "  <tbody>\n",
              "    <tr>\n",
              "      <th>0</th>\n",
              "      <td>NaN</td>\n",
              "      <td>Absolutely wonderful - silky and sexy and comf...</td>\n",
              "      <td>4.0</td>\n",
              "      <td>Intimates</td>\n",
              "      <td>0.0</td>\n",
              "      <td>0.0</td>\n",
              "      <td>0.0</td>\n",
              "      <td>1.0</td>\n",
              "      <td>0.0</td>\n",
              "    </tr>\n",
              "    <tr>\n",
              "      <th>1</th>\n",
              "      <td>NaN</td>\n",
              "      <td>Love this dress!  it's sooo pretty.  i happene...</td>\n",
              "      <td>5.0</td>\n",
              "      <td>Dresses</td>\n",
              "      <td>0.0</td>\n",
              "      <td>1.0</td>\n",
              "      <td>0.0</td>\n",
              "      <td>0.0</td>\n",
              "      <td>0.0</td>\n",
              "    </tr>\n",
              "    <tr>\n",
              "      <th>2</th>\n",
              "      <td>Some major design flaws</td>\n",
              "      <td>I had such high hopes for this dress and reall...</td>\n",
              "      <td>3.0</td>\n",
              "      <td>Dresses</td>\n",
              "      <td>0.0</td>\n",
              "      <td>0.0</td>\n",
              "      <td>0.0</td>\n",
              "      <td>1.0</td>\n",
              "      <td>0.0</td>\n",
              "    </tr>\n",
              "    <tr>\n",
              "      <th>3</th>\n",
              "      <td>My favorite buy!</td>\n",
              "      <td>I love, love, love this jumpsuit. it's fun, fl...</td>\n",
              "      <td>5.0</td>\n",
              "      <td>Pants</td>\n",
              "      <td>0.0</td>\n",
              "      <td>0.0</td>\n",
              "      <td>0.0</td>\n",
              "      <td>0.0</td>\n",
              "      <td>0.0</td>\n",
              "    </tr>\n",
              "    <tr>\n",
              "      <th>4</th>\n",
              "      <td>Flattering shirt</td>\n",
              "      <td>This shirt is very flattering to all due to th...</td>\n",
              "      <td>5.0</td>\n",
              "      <td>Blouses</td>\n",
              "      <td>0.0</td>\n",
              "      <td>1.0</td>\n",
              "      <td>0.0</td>\n",
              "      <td>0.0</td>\n",
              "      <td>0.0</td>\n",
              "    </tr>\n",
              "  </tbody>\n",
              "</table>\n",
              "</div>\n",
              "    <div class=\"colab-df-buttons\">\n",
              "\n",
              "  <div class=\"colab-df-container\">\n",
              "    <button class=\"colab-df-convert\" onclick=\"convertToInteractive('df-ff5c59fd-6849-42ff-8d2d-290f5185eb7e')\"\n",
              "            title=\"Convert this dataframe to an interactive table.\"\n",
              "            style=\"display:none;\">\n",
              "\n",
              "  <svg xmlns=\"http://www.w3.org/2000/svg\" height=\"24px\" viewBox=\"0 -960 960 960\">\n",
              "    <path d=\"M120-120v-720h720v720H120Zm60-500h600v-160H180v160Zm220 220h160v-160H400v160Zm0 220h160v-160H400v160ZM180-400h160v-160H180v160Zm440 0h160v-160H620v160ZM180-180h160v-160H180v160Zm440 0h160v-160H620v160Z\"/>\n",
              "  </svg>\n",
              "    </button>\n",
              "\n",
              "  <style>\n",
              "    .colab-df-container {\n",
              "      display:flex;\n",
              "      gap: 12px;\n",
              "    }\n",
              "\n",
              "    .colab-df-convert {\n",
              "      background-color: #E8F0FE;\n",
              "      border: none;\n",
              "      border-radius: 50%;\n",
              "      cursor: pointer;\n",
              "      display: none;\n",
              "      fill: #1967D2;\n",
              "      height: 32px;\n",
              "      padding: 0 0 0 0;\n",
              "      width: 32px;\n",
              "    }\n",
              "\n",
              "    .colab-df-convert:hover {\n",
              "      background-color: #E2EBFA;\n",
              "      box-shadow: 0px 1px 2px rgba(60, 64, 67, 0.3), 0px 1px 3px 1px rgba(60, 64, 67, 0.15);\n",
              "      fill: #174EA6;\n",
              "    }\n",
              "\n",
              "    .colab-df-buttons div {\n",
              "      margin-bottom: 4px;\n",
              "    }\n",
              "\n",
              "    [theme=dark] .colab-df-convert {\n",
              "      background-color: #3B4455;\n",
              "      fill: #D2E3FC;\n",
              "    }\n",
              "\n",
              "    [theme=dark] .colab-df-convert:hover {\n",
              "      background-color: #434B5C;\n",
              "      box-shadow: 0px 1px 3px 1px rgba(0, 0, 0, 0.15);\n",
              "      filter: drop-shadow(0px 1px 2px rgba(0, 0, 0, 0.3));\n",
              "      fill: #FFFFFF;\n",
              "    }\n",
              "  </style>\n",
              "\n",
              "    <script>\n",
              "      const buttonEl =\n",
              "        document.querySelector('#df-ff5c59fd-6849-42ff-8d2d-290f5185eb7e button.colab-df-convert');\n",
              "      buttonEl.style.display =\n",
              "        google.colab.kernel.accessAllowed ? 'block' : 'none';\n",
              "\n",
              "      async function convertToInteractive(key) {\n",
              "        const element = document.querySelector('#df-ff5c59fd-6849-42ff-8d2d-290f5185eb7e');\n",
              "        const dataTable =\n",
              "          await google.colab.kernel.invokeFunction('convertToInteractive',\n",
              "                                                    [key], {});\n",
              "        if (!dataTable) return;\n",
              "\n",
              "        const docLinkHtml = 'Like what you see? Visit the ' +\n",
              "          '<a target=\"_blank\" href=https://colab.research.google.com/notebooks/data_table.ipynb>data table notebook</a>'\n",
              "          + ' to learn more about interactive tables.';\n",
              "        element.innerHTML = '';\n",
              "        dataTable['output_type'] = 'display_data';\n",
              "        await google.colab.output.renderOutput(dataTable, element);\n",
              "        const docLink = document.createElement('div');\n",
              "        docLink.innerHTML = docLinkHtml;\n",
              "        element.appendChild(docLink);\n",
              "      }\n",
              "    </script>\n",
              "  </div>\n",
              "\n",
              "\n",
              "<div id=\"df-a543dda3-99b3-46ba-9d3a-42a4c152a76d\">\n",
              "  <button class=\"colab-df-quickchart\" onclick=\"quickchart('df-a543dda3-99b3-46ba-9d3a-42a4c152a76d')\"\n",
              "            title=\"Suggest charts\"\n",
              "            style=\"display:none;\">\n",
              "\n",
              "<svg xmlns=\"http://www.w3.org/2000/svg\" height=\"24px\"viewBox=\"0 0 24 24\"\n",
              "     width=\"24px\">\n",
              "    <g>\n",
              "        <path d=\"M19 3H5c-1.1 0-2 .9-2 2v14c0 1.1.9 2 2 2h14c1.1 0 2-.9 2-2V5c0-1.1-.9-2-2-2zM9 17H7v-7h2v7zm4 0h-2V7h2v10zm4 0h-2v-4h2v4z\"/>\n",
              "    </g>\n",
              "</svg>\n",
              "  </button>\n",
              "\n",
              "<style>\n",
              "  .colab-df-quickchart {\n",
              "      --bg-color: #E8F0FE;\n",
              "      --fill-color: #1967D2;\n",
              "      --hover-bg-color: #E2EBFA;\n",
              "      --hover-fill-color: #174EA6;\n",
              "      --disabled-fill-color: #AAA;\n",
              "      --disabled-bg-color: #DDD;\n",
              "  }\n",
              "\n",
              "  [theme=dark] .colab-df-quickchart {\n",
              "      --bg-color: #3B4455;\n",
              "      --fill-color: #D2E3FC;\n",
              "      --hover-bg-color: #434B5C;\n",
              "      --hover-fill-color: #FFFFFF;\n",
              "      --disabled-bg-color: #3B4455;\n",
              "      --disabled-fill-color: #666;\n",
              "  }\n",
              "\n",
              "  .colab-df-quickchart {\n",
              "    background-color: var(--bg-color);\n",
              "    border: none;\n",
              "    border-radius: 50%;\n",
              "    cursor: pointer;\n",
              "    display: none;\n",
              "    fill: var(--fill-color);\n",
              "    height: 32px;\n",
              "    padding: 0;\n",
              "    width: 32px;\n",
              "  }\n",
              "\n",
              "  .colab-df-quickchart:hover {\n",
              "    background-color: var(--hover-bg-color);\n",
              "    box-shadow: 0 1px 2px rgba(60, 64, 67, 0.3), 0 1px 3px 1px rgba(60, 64, 67, 0.15);\n",
              "    fill: var(--button-hover-fill-color);\n",
              "  }\n",
              "\n",
              "  .colab-df-quickchart-complete:disabled,\n",
              "  .colab-df-quickchart-complete:disabled:hover {\n",
              "    background-color: var(--disabled-bg-color);\n",
              "    fill: var(--disabled-fill-color);\n",
              "    box-shadow: none;\n",
              "  }\n",
              "\n",
              "  .colab-df-spinner {\n",
              "    border: 2px solid var(--fill-color);\n",
              "    border-color: transparent;\n",
              "    border-bottom-color: var(--fill-color);\n",
              "    animation:\n",
              "      spin 1s steps(1) infinite;\n",
              "  }\n",
              "\n",
              "  @keyframes spin {\n",
              "    0% {\n",
              "      border-color: transparent;\n",
              "      border-bottom-color: var(--fill-color);\n",
              "      border-left-color: var(--fill-color);\n",
              "    }\n",
              "    20% {\n",
              "      border-color: transparent;\n",
              "      border-left-color: var(--fill-color);\n",
              "      border-top-color: var(--fill-color);\n",
              "    }\n",
              "    30% {\n",
              "      border-color: transparent;\n",
              "      border-left-color: var(--fill-color);\n",
              "      border-top-color: var(--fill-color);\n",
              "      border-right-color: var(--fill-color);\n",
              "    }\n",
              "    40% {\n",
              "      border-color: transparent;\n",
              "      border-right-color: var(--fill-color);\n",
              "      border-top-color: var(--fill-color);\n",
              "    }\n",
              "    60% {\n",
              "      border-color: transparent;\n",
              "      border-right-color: var(--fill-color);\n",
              "    }\n",
              "    80% {\n",
              "      border-color: transparent;\n",
              "      border-right-color: var(--fill-color);\n",
              "      border-bottom-color: var(--fill-color);\n",
              "    }\n",
              "    90% {\n",
              "      border-color: transparent;\n",
              "      border-bottom-color: var(--fill-color);\n",
              "    }\n",
              "  }\n",
              "</style>\n",
              "\n",
              "  <script>\n",
              "    async function quickchart(key) {\n",
              "      const quickchartButtonEl =\n",
              "        document.querySelector('#' + key + ' button');\n",
              "      quickchartButtonEl.disabled = true;  // To prevent multiple clicks.\n",
              "      quickchartButtonEl.classList.add('colab-df-spinner');\n",
              "      try {\n",
              "        const charts = await google.colab.kernel.invokeFunction(\n",
              "            'suggestCharts', [key], {});\n",
              "      } catch (error) {\n",
              "        console.error('Error during call to suggestCharts:', error);\n",
              "      }\n",
              "      quickchartButtonEl.classList.remove('colab-df-spinner');\n",
              "      quickchartButtonEl.classList.add('colab-df-quickchart-complete');\n",
              "    }\n",
              "    (() => {\n",
              "      let quickchartButtonEl =\n",
              "        document.querySelector('#df-a543dda3-99b3-46ba-9d3a-42a4c152a76d button');\n",
              "      quickchartButtonEl.style.display =\n",
              "        google.colab.kernel.accessAllowed ? 'block' : 'none';\n",
              "    })();\n",
              "  </script>\n",
              "</div>\n",
              "\n",
              "    </div>\n",
              "  </div>\n"
            ],
            "application/vnd.google.colaboratory.intrinsic+json": {
              "type": "dataframe",
              "variable_name": "ds",
              "summary": "{\n  \"name\": \"ds\",\n  \"rows\": 49338,\n  \"fields\": [\n    {\n      \"column\": \"Title\",\n      \"properties\": {\n        \"dtype\": \"string\",\n        \"num_unique_values\": 31094,\n        \"samples\": [\n          \"Uneven sleeves, quality not as expected\",\n          \"Extremely thin material\",\n          \"A little disappointed.\"\n        ],\n        \"semantic_type\": \"\",\n        \"description\": \"\"\n      }\n    },\n    {\n      \"column\": \"Review\",\n      \"properties\": {\n        \"dtype\": \"string\",\n        \"num_unique_values\": 47530,\n        \"samples\": [\n          \"These shorts seem like they'd be made to go over another pair of shorts. That's how see thru they are. They also run incredibly small.\",\n          \"I ordered a medium for my 18 year old. On what planet is this a medium?! Waaaaay too big. Don\\u2019t waste your money.\",\n          \"Bought this for a volunteer position out of doors. Bits dressy but not too hot.  Fights nicely and looks professional.\"\n        ],\n        \"semantic_type\": \"\",\n        \"description\": \"\"\n      }\n    },\n    {\n      \"column\": \"Cons_rating\",\n      \"properties\": {\n        \"dtype\": \"number\",\n        \"std\": 1.2837074300000735,\n        \"min\": 1.0,\n        \"max\": 5.0,\n        \"num_unique_values\": 5,\n        \"samples\": [\n          5.0,\n          1.0,\n          3.0\n        ],\n        \"semantic_type\": \"\",\n        \"description\": \"\"\n      }\n    },\n    {\n      \"column\": \"Cloth_class\",\n      \"properties\": {\n        \"dtype\": \"category\",\n        \"num_unique_values\": 24,\n        \"samples\": [\n          \"Skirts\",\n          \"Shorts\",\n          \"Intimates\"\n        ],\n        \"semantic_type\": \"\",\n        \"description\": \"\"\n      }\n    },\n    {\n      \"column\": \"Materials\",\n      \"properties\": {\n        \"dtype\": \"number\",\n        \"std\": 0.47451468543712244,\n        \"min\": 0.0,\n        \"max\": 9.0,\n        \"num_unique_values\": 3,\n        \"samples\": [\n          0.0,\n          1.0,\n          9.0\n        ],\n        \"semantic_type\": \"\",\n        \"description\": \"\"\n      }\n    },\n    {\n      \"column\": \"Construction\",\n      \"properties\": {\n        \"dtype\": \"number\",\n        \"std\": 0.5003749620604943,\n        \"min\": 0.0,\n        \"max\": 2.0,\n        \"num_unique_values\": 3,\n        \"samples\": [\n          0.0,\n          1.0,\n          2.0\n        ],\n        \"semantic_type\": \"\",\n        \"description\": \"\"\n      }\n    },\n    {\n      \"column\": \"Color\",\n      \"properties\": {\n        \"dtype\": \"number\",\n        \"std\": 0.4526565324301264,\n        \"min\": 0.0,\n        \"max\": 9.0,\n        \"num_unique_values\": 3,\n        \"samples\": [\n          0.0,\n          1.0,\n          9.0\n        ],\n        \"semantic_type\": \"\",\n        \"description\": \"\"\n      }\n    },\n    {\n      \"column\": \"Finishing\",\n      \"properties\": {\n        \"dtype\": \"number\",\n        \"std\": 0.4418065058635513,\n        \"min\": 0.0,\n        \"max\": 1.0,\n        \"num_unique_values\": 2,\n        \"samples\": [\n          0.0,\n          1.0\n        ],\n        \"semantic_type\": \"\",\n        \"description\": \"\"\n      }\n    },\n    {\n      \"column\": \"Durability\",\n      \"properties\": {\n        \"dtype\": \"number\",\n        \"std\": 0.42530503620195964,\n        \"min\": 0.0,\n        \"max\": 9.0,\n        \"num_unique_values\": 3,\n        \"samples\": [\n          0.0,\n          1.0\n        ],\n        \"semantic_type\": \"\",\n        \"description\": \"\"\n      }\n    }\n  ]\n}"
            }
          },
          "metadata": {},
          "execution_count": 42
        }
      ],
      "source": [
        "ds.head() # let's see what our dataset looks like"
      ]
    },
    {
      "cell_type": "code",
      "execution_count": null,
      "metadata": {
        "colab": {
          "base_uri": "https://localhost:8080/"
        },
        "id": "vKXhy3CKVeRC",
        "outputId": "7fde6806-33b1-4e0d-f1f3-c5e542008afb"
      },
      "outputs": [
        {
          "output_type": "execute_result",
          "data": {
            "text/plain": [
              "49338"
            ]
          },
          "metadata": {},
          "execution_count": 43
        }
      ],
      "source": [
        "len(ds) # let's see how many rows there are"
      ]
    },
    {
      "cell_type": "code",
      "execution_count": null,
      "metadata": {
        "colab": {
          "base_uri": "https://localhost:8080/"
        },
        "id": "knLJNmu6wgF3",
        "outputId": "fb37d10d-de1c-4bc6-e618-621e3d42023a"
      },
      "outputs": [
        {
          "output_type": "execute_result",
          "data": {
            "text/plain": [
              "(array([    0,     1,    11, ..., 49284, 49284, 49299]),\n",
              " array([0, 0, 0, ..., 7, 8, 8]))"
            ]
          },
          "metadata": {},
          "execution_count": 44
        }
      ],
      "source": [
        "row_indices, col_indices = np.where(pd.isnull(ds)) # check for a missing data\n",
        "row_indices, col_indices"
      ]
    },
    {
      "cell_type": "code",
      "source": [
        "ds = ds.dropna() # I will delete the missing values"
      ],
      "metadata": {
        "id": "VhqsbnZB0LV4"
      },
      "execution_count": null,
      "outputs": []
    },
    {
      "cell_type": "code",
      "execution_count": null,
      "metadata": {
        "colab": {
          "base_uri": "https://localhost:8080/"
        },
        "id": "EDYWQUpIVvbL",
        "outputId": "8ed35333-5a49-4486-846e-c663bbeb570e"
      },
      "outputs": [
        {
          "output_type": "execute_result",
          "data": {
            "text/plain": [
              "28"
            ]
          },
          "metadata": {},
          "execution_count": 46
        }
      ],
      "source": [
        "sum(ds[\"Review\"].duplicated()) # I'm going to check for duplicates based on reviews, because they are more unique"
      ]
    },
    {
      "cell_type": "code",
      "execution_count": null,
      "metadata": {
        "colab": {
          "base_uri": "https://localhost:8080/"
        },
        "id": "mLRYSV-tmw7v",
        "outputId": "c27818c9-e8db-4dce-a4f4-e32c73b8e4f7"
      },
      "outputs": [
        {
          "output_type": "execute_result",
          "data": {
            "text/plain": [
              "0"
            ]
          },
          "metadata": {},
          "execution_count": 47
        }
      ],
      "source": [
        "ds = ds.drop_duplicates(subset=\"Review\")\n",
        "sum(ds[\"Review\"].duplicated()) # I deleted duplicates from the data"
      ]
    },
    {
      "cell_type": "code",
      "execution_count": null,
      "metadata": {
        "colab": {
          "base_uri": "https://localhost:8080/"
        },
        "id": "yqzS-lHQReFb",
        "outputId": "da0d326e-d617-4fda-8db2-4094e6d38ccc"
      },
      "outputs": [
        {
          "output_type": "execute_result",
          "data": {
            "text/plain": [
              "(array([], dtype=int64), array([], dtype=int64))"
            ]
          },
          "metadata": {},
          "execution_count": 48
        }
      ],
      "source": [
        "empty_string_indices = np.where(ds.applymap(lambda x: x == '')) # let's check for values that are empty strings\n",
        "empty_string_indices # There are no empty strings"
      ]
    },
    {
      "cell_type": "markdown",
      "metadata": {
        "id": "QvwfSj4RX-Va"
      },
      "source": [
        "**Data distribution by categories**"
      ]
    },
    {
      "cell_type": "code",
      "execution_count": null,
      "metadata": {
        "colab": {
          "base_uri": "https://localhost:8080/"
        },
        "id": "VbvgsRrRYEeY",
        "outputId": "ba752f1c-4e72-402a-cf69-d0b66369599a"
      },
      "outputs": [
        {
          "output_type": "execute_result",
          "data": {
            "text/plain": [
              "['Materials', 'Construction', 'Color', 'Finishing', 'Durability']"
            ]
          },
          "metadata": {},
          "execution_count": 49
        }
      ],
      "source": [
        "n = 5 # determine the number of categories\n",
        "\n",
        "list_categories = ds.columns.tolist()[-n:] # let's see what categories are in the dataset\n",
        "list_categories"
      ]
    },
    {
      "cell_type": "code",
      "execution_count": null,
      "metadata": {
        "colab": {
          "base_uri": "https://localhost:8080/",
          "height": 1000
        },
        "id": "A2e_NEBQF5xf",
        "outputId": "d3233d57-4064-455f-c7e6-4109ccd656d3"
      },
      "outputs": [
        {
          "output_type": "execute_result",
          "data": {
            "text/plain": [
              "<pandas.io.formats.style.Styler at 0x7e5d42c3ada0>"
            ],
            "text/html": [
              "<style type=\"text/css\">\n",
              "#T_ea207_row0_col0, #T_ea207_row1_col0, #T_ea207_row2_col0, #T_ea207_row3_col0, #T_ea207_row4_col0, #T_ea207_row5_col0, #T_ea207_row6_col0, #T_ea207_row7_col0, #T_ea207_row8_col0, #T_ea207_row9_col0, #T_ea207_row10_col0, #T_ea207_row11_col0, #T_ea207_row12_col0, #T_ea207_row13_col0, #T_ea207_row14_col0, #T_ea207_row15_col0, #T_ea207_row16_col0, #T_ea207_row17_col0, #T_ea207_row18_col0, #T_ea207_row19_col0, #T_ea207_row20_col0, #T_ea207_row21_col0, #T_ea207_row22_col0, #T_ea207_row23_col0, #T_ea207_row24_col0, #T_ea207_row25_col0, #T_ea207_row26_col0, #T_ea207_row27_col0, #T_ea207_row28_col0, #T_ea207_row29_col0, #T_ea207_row30_col0, #T_ea207_row31_col0, #T_ea207_row32_col0, #T_ea207_row33_col0 {\n",
              "  background-color: yellow;\n",
              "}\n",
              "</style>\n",
              "<table id=\"T_ea207\" class=\"dataframe\">\n",
              "  <thead>\n",
              "    <tr>\n",
              "      <th class=\"blank level0\" >&nbsp;</th>\n",
              "      <th id=\"T_ea207_level0_col0\" class=\"col_heading level0 col0\" >number of occurrences</th>\n",
              "      <th id=\"T_ea207_level0_col1\" class=\"col_heading level0 col1\" >Materials</th>\n",
              "      <th id=\"T_ea207_level0_col2\" class=\"col_heading level0 col2\" >Construction</th>\n",
              "      <th id=\"T_ea207_level0_col3\" class=\"col_heading level0 col3\" >Color</th>\n",
              "      <th id=\"T_ea207_level0_col4\" class=\"col_heading level0 col4\" >Finishing</th>\n",
              "      <th id=\"T_ea207_level0_col5\" class=\"col_heading level0 col5\" >Durability</th>\n",
              "    </tr>\n",
              "  </thead>\n",
              "  <tbody>\n",
              "    <tr>\n",
              "      <th id=\"T_ea207_level0_row0\" class=\"row_heading level0 row0\" >0</th>\n",
              "      <td id=\"T_ea207_row0_col0\" class=\"data row0 col0\" >1060</td>\n",
              "      <td id=\"T_ea207_row0_col1\" class=\"data row0 col1\" >0.000000</td>\n",
              "      <td id=\"T_ea207_row0_col2\" class=\"data row0 col2\" >1.000000</td>\n",
              "      <td id=\"T_ea207_row0_col3\" class=\"data row0 col3\" >0.000000</td>\n",
              "      <td id=\"T_ea207_row0_col4\" class=\"data row0 col4\" >0.000000</td>\n",
              "      <td id=\"T_ea207_row0_col5\" class=\"data row0 col5\" >0.000000</td>\n",
              "    </tr>\n",
              "    <tr>\n",
              "      <th id=\"T_ea207_level0_row1\" class=\"row_heading level0 row1\" >1</th>\n",
              "      <td id=\"T_ea207_row1_col0\" class=\"data row1 col0\" >519</td>\n",
              "      <td id=\"T_ea207_row1_col1\" class=\"data row1 col1\" >0.000000</td>\n",
              "      <td id=\"T_ea207_row1_col2\" class=\"data row1 col2\" >0.000000</td>\n",
              "      <td id=\"T_ea207_row1_col3\" class=\"data row1 col3\" >0.000000</td>\n",
              "      <td id=\"T_ea207_row1_col4\" class=\"data row1 col4\" >0.000000</td>\n",
              "      <td id=\"T_ea207_row1_col5\" class=\"data row1 col5\" >1.000000</td>\n",
              "    </tr>\n",
              "    <tr>\n",
              "      <th id=\"T_ea207_level0_row2\" class=\"row_heading level0 row2\" >2</th>\n",
              "      <td id=\"T_ea207_row2_col0\" class=\"data row2 col0\" >475</td>\n",
              "      <td id=\"T_ea207_row2_col1\" class=\"data row2 col1\" >0.000000</td>\n",
              "      <td id=\"T_ea207_row2_col2\" class=\"data row2 col2\" >0.000000</td>\n",
              "      <td id=\"T_ea207_row2_col3\" class=\"data row2 col3\" >0.000000</td>\n",
              "      <td id=\"T_ea207_row2_col4\" class=\"data row2 col4\" >0.000000</td>\n",
              "      <td id=\"T_ea207_row2_col5\" class=\"data row2 col5\" >0.000000</td>\n",
              "    </tr>\n",
              "    <tr>\n",
              "      <th id=\"T_ea207_level0_row3\" class=\"row_heading level0 row3\" >3</th>\n",
              "      <td id=\"T_ea207_row3_col0\" class=\"data row3 col0\" >420</td>\n",
              "      <td id=\"T_ea207_row3_col1\" class=\"data row3 col1\" >1.000000</td>\n",
              "      <td id=\"T_ea207_row3_col2\" class=\"data row3 col2\" >1.000000</td>\n",
              "      <td id=\"T_ea207_row3_col3\" class=\"data row3 col3\" >0.000000</td>\n",
              "      <td id=\"T_ea207_row3_col4\" class=\"data row3 col4\" >0.000000</td>\n",
              "      <td id=\"T_ea207_row3_col5\" class=\"data row3 col5\" >0.000000</td>\n",
              "    </tr>\n",
              "    <tr>\n",
              "      <th id=\"T_ea207_level0_row4\" class=\"row_heading level0 row4\" >4</th>\n",
              "      <td id=\"T_ea207_row4_col0\" class=\"data row4 col0\" >357</td>\n",
              "      <td id=\"T_ea207_row4_col1\" class=\"data row4 col1\" >0.000000</td>\n",
              "      <td id=\"T_ea207_row4_col2\" class=\"data row4 col2\" >1.000000</td>\n",
              "      <td id=\"T_ea207_row4_col3\" class=\"data row4 col3\" >0.000000</td>\n",
              "      <td id=\"T_ea207_row4_col4\" class=\"data row4 col4\" >1.000000</td>\n",
              "      <td id=\"T_ea207_row4_col5\" class=\"data row4 col5\" >0.000000</td>\n",
              "    </tr>\n",
              "    <tr>\n",
              "      <th id=\"T_ea207_level0_row5\" class=\"row_heading level0 row5\" >5</th>\n",
              "      <td id=\"T_ea207_row5_col0\" class=\"data row5 col0\" >293</td>\n",
              "      <td id=\"T_ea207_row5_col1\" class=\"data row5 col1\" >0.000000</td>\n",
              "      <td id=\"T_ea207_row5_col2\" class=\"data row5 col2\" >1.000000</td>\n",
              "      <td id=\"T_ea207_row5_col3\" class=\"data row5 col3\" >1.000000</td>\n",
              "      <td id=\"T_ea207_row5_col4\" class=\"data row5 col4\" >0.000000</td>\n",
              "      <td id=\"T_ea207_row5_col5\" class=\"data row5 col5\" >0.000000</td>\n",
              "    </tr>\n",
              "    <tr>\n",
              "      <th id=\"T_ea207_level0_row6\" class=\"row_heading level0 row6\" >6</th>\n",
              "      <td id=\"T_ea207_row6_col0\" class=\"data row6 col0\" >269</td>\n",
              "      <td id=\"T_ea207_row6_col1\" class=\"data row6 col1\" >1.000000</td>\n",
              "      <td id=\"T_ea207_row6_col2\" class=\"data row6 col2\" >0.000000</td>\n",
              "      <td id=\"T_ea207_row6_col3\" class=\"data row6 col3\" >0.000000</td>\n",
              "      <td id=\"T_ea207_row6_col4\" class=\"data row6 col4\" >0.000000</td>\n",
              "      <td id=\"T_ea207_row6_col5\" class=\"data row6 col5\" >0.000000</td>\n",
              "    </tr>\n",
              "    <tr>\n",
              "      <th id=\"T_ea207_level0_row7\" class=\"row_heading level0 row7\" >7</th>\n",
              "      <td id=\"T_ea207_row7_col0\" class=\"data row7 col0\" >247</td>\n",
              "      <td id=\"T_ea207_row7_col1\" class=\"data row7 col1\" >0.000000</td>\n",
              "      <td id=\"T_ea207_row7_col2\" class=\"data row7 col2\" >0.000000</td>\n",
              "      <td id=\"T_ea207_row7_col3\" class=\"data row7 col3\" >1.000000</td>\n",
              "      <td id=\"T_ea207_row7_col4\" class=\"data row7 col4\" >0.000000</td>\n",
              "      <td id=\"T_ea207_row7_col5\" class=\"data row7 col5\" >0.000000</td>\n",
              "    </tr>\n",
              "    <tr>\n",
              "      <th id=\"T_ea207_level0_row8\" class=\"row_heading level0 row8\" >8</th>\n",
              "      <td id=\"T_ea207_row8_col0\" class=\"data row8 col0\" >216</td>\n",
              "      <td id=\"T_ea207_row8_col1\" class=\"data row8 col1\" >0.000000</td>\n",
              "      <td id=\"T_ea207_row8_col2\" class=\"data row8 col2\" >0.000000</td>\n",
              "      <td id=\"T_ea207_row8_col3\" class=\"data row8 col3\" >0.000000</td>\n",
              "      <td id=\"T_ea207_row8_col4\" class=\"data row8 col4\" >1.000000</td>\n",
              "      <td id=\"T_ea207_row8_col5\" class=\"data row8 col5\" >0.000000</td>\n",
              "    </tr>\n",
              "    <tr>\n",
              "      <th id=\"T_ea207_level0_row9\" class=\"row_heading level0 row9\" >9</th>\n",
              "      <td id=\"T_ea207_row9_col0\" class=\"data row9 col0\" >170</td>\n",
              "      <td id=\"T_ea207_row9_col1\" class=\"data row9 col1\" >1.000000</td>\n",
              "      <td id=\"T_ea207_row9_col2\" class=\"data row9 col2\" >0.000000</td>\n",
              "      <td id=\"T_ea207_row9_col3\" class=\"data row9 col3\" >1.000000</td>\n",
              "      <td id=\"T_ea207_row9_col4\" class=\"data row9 col4\" >0.000000</td>\n",
              "      <td id=\"T_ea207_row9_col5\" class=\"data row9 col5\" >0.000000</td>\n",
              "    </tr>\n",
              "    <tr>\n",
              "      <th id=\"T_ea207_level0_row10\" class=\"row_heading level0 row10\" >10</th>\n",
              "      <td id=\"T_ea207_row10_col0\" class=\"data row10 col0\" >153</td>\n",
              "      <td id=\"T_ea207_row10_col1\" class=\"data row10 col1\" >0.000000</td>\n",
              "      <td id=\"T_ea207_row10_col2\" class=\"data row10 col2\" >0.000000</td>\n",
              "      <td id=\"T_ea207_row10_col3\" class=\"data row10 col3\" >1.000000</td>\n",
              "      <td id=\"T_ea207_row10_col4\" class=\"data row10 col4\" >1.000000</td>\n",
              "      <td id=\"T_ea207_row10_col5\" class=\"data row10 col5\" >0.000000</td>\n",
              "    </tr>\n",
              "    <tr>\n",
              "      <th id=\"T_ea207_level0_row11\" class=\"row_heading level0 row11\" >11</th>\n",
              "      <td id=\"T_ea207_row11_col0\" class=\"data row11 col0\" >147</td>\n",
              "      <td id=\"T_ea207_row11_col1\" class=\"data row11 col1\" >1.000000</td>\n",
              "      <td id=\"T_ea207_row11_col2\" class=\"data row11 col2\" >0.000000</td>\n",
              "      <td id=\"T_ea207_row11_col3\" class=\"data row11 col3\" >0.000000</td>\n",
              "      <td id=\"T_ea207_row11_col4\" class=\"data row11 col4\" >1.000000</td>\n",
              "      <td id=\"T_ea207_row11_col5\" class=\"data row11 col5\" >0.000000</td>\n",
              "    </tr>\n",
              "    <tr>\n",
              "      <th id=\"T_ea207_level0_row12\" class=\"row_heading level0 row12\" >12</th>\n",
              "      <td id=\"T_ea207_row12_col0\" class=\"data row12 col0\" >144</td>\n",
              "      <td id=\"T_ea207_row12_col1\" class=\"data row12 col1\" >1.000000</td>\n",
              "      <td id=\"T_ea207_row12_col2\" class=\"data row12 col2\" >1.000000</td>\n",
              "      <td id=\"T_ea207_row12_col3\" class=\"data row12 col3\" >0.000000</td>\n",
              "      <td id=\"T_ea207_row12_col4\" class=\"data row12 col4\" >1.000000</td>\n",
              "      <td id=\"T_ea207_row12_col5\" class=\"data row12 col5\" >0.000000</td>\n",
              "    </tr>\n",
              "    <tr>\n",
              "      <th id=\"T_ea207_level0_row13\" class=\"row_heading level0 row13\" >13</th>\n",
              "      <td id=\"T_ea207_row13_col0\" class=\"data row13 col0\" >129</td>\n",
              "      <td id=\"T_ea207_row13_col1\" class=\"data row13 col1\" >1.000000</td>\n",
              "      <td id=\"T_ea207_row13_col2\" class=\"data row13 col2\" >0.000000</td>\n",
              "      <td id=\"T_ea207_row13_col3\" class=\"data row13 col3\" >0.000000</td>\n",
              "      <td id=\"T_ea207_row13_col4\" class=\"data row13 col4\" >0.000000</td>\n",
              "      <td id=\"T_ea207_row13_col5\" class=\"data row13 col5\" >1.000000</td>\n",
              "    </tr>\n",
              "    <tr>\n",
              "      <th id=\"T_ea207_level0_row14\" class=\"row_heading level0 row14\" >14</th>\n",
              "      <td id=\"T_ea207_row14_col0\" class=\"data row14 col0\" >120</td>\n",
              "      <td id=\"T_ea207_row14_col1\" class=\"data row14 col1\" >1.000000</td>\n",
              "      <td id=\"T_ea207_row14_col2\" class=\"data row14 col2\" >1.000000</td>\n",
              "      <td id=\"T_ea207_row14_col3\" class=\"data row14 col3\" >1.000000</td>\n",
              "      <td id=\"T_ea207_row14_col4\" class=\"data row14 col4\" >0.000000</td>\n",
              "      <td id=\"T_ea207_row14_col5\" class=\"data row14 col5\" >0.000000</td>\n",
              "    </tr>\n",
              "    <tr>\n",
              "      <th id=\"T_ea207_level0_row15\" class=\"row_heading level0 row15\" >15</th>\n",
              "      <td id=\"T_ea207_row15_col0\" class=\"data row15 col0\" >96</td>\n",
              "      <td id=\"T_ea207_row15_col1\" class=\"data row15 col1\" >0.000000</td>\n",
              "      <td id=\"T_ea207_row15_col2\" class=\"data row15 col2\" >1.000000</td>\n",
              "      <td id=\"T_ea207_row15_col3\" class=\"data row15 col3\" >0.000000</td>\n",
              "      <td id=\"T_ea207_row15_col4\" class=\"data row15 col4\" >0.000000</td>\n",
              "      <td id=\"T_ea207_row15_col5\" class=\"data row15 col5\" >1.000000</td>\n",
              "    </tr>\n",
              "    <tr>\n",
              "      <th id=\"T_ea207_level0_row16\" class=\"row_heading level0 row16\" >16</th>\n",
              "      <td id=\"T_ea207_row16_col0\" class=\"data row16 col0\" >91</td>\n",
              "      <td id=\"T_ea207_row16_col1\" class=\"data row16 col1\" >0.000000</td>\n",
              "      <td id=\"T_ea207_row16_col2\" class=\"data row16 col2\" >0.000000</td>\n",
              "      <td id=\"T_ea207_row16_col3\" class=\"data row16 col3\" >0.000000</td>\n",
              "      <td id=\"T_ea207_row16_col4\" class=\"data row16 col4\" >1.000000</td>\n",
              "      <td id=\"T_ea207_row16_col5\" class=\"data row16 col5\" >1.000000</td>\n",
              "    </tr>\n",
              "    <tr>\n",
              "      <th id=\"T_ea207_level0_row17\" class=\"row_heading level0 row17\" >17</th>\n",
              "      <td id=\"T_ea207_row17_col0\" class=\"data row17 col0\" >85</td>\n",
              "      <td id=\"T_ea207_row17_col1\" class=\"data row17 col1\" >1.000000</td>\n",
              "      <td id=\"T_ea207_row17_col2\" class=\"data row17 col2\" >0.000000</td>\n",
              "      <td id=\"T_ea207_row17_col3\" class=\"data row17 col3\" >1.000000</td>\n",
              "      <td id=\"T_ea207_row17_col4\" class=\"data row17 col4\" >1.000000</td>\n",
              "      <td id=\"T_ea207_row17_col5\" class=\"data row17 col5\" >0.000000</td>\n",
              "    </tr>\n",
              "    <tr>\n",
              "      <th id=\"T_ea207_level0_row18\" class=\"row_heading level0 row18\" >18</th>\n",
              "      <td id=\"T_ea207_row18_col0\" class=\"data row18 col0\" >82</td>\n",
              "      <td id=\"T_ea207_row18_col1\" class=\"data row18 col1\" >0.000000</td>\n",
              "      <td id=\"T_ea207_row18_col2\" class=\"data row18 col2\" >0.000000</td>\n",
              "      <td id=\"T_ea207_row18_col3\" class=\"data row18 col3\" >1.000000</td>\n",
              "      <td id=\"T_ea207_row18_col4\" class=\"data row18 col4\" >0.000000</td>\n",
              "      <td id=\"T_ea207_row18_col5\" class=\"data row18 col5\" >1.000000</td>\n",
              "    </tr>\n",
              "    <tr>\n",
              "      <th id=\"T_ea207_level0_row19\" class=\"row_heading level0 row19\" >19</th>\n",
              "      <td id=\"T_ea207_row19_col0\" class=\"data row19 col0\" >80</td>\n",
              "      <td id=\"T_ea207_row19_col1\" class=\"data row19 col1\" >0.000000</td>\n",
              "      <td id=\"T_ea207_row19_col2\" class=\"data row19 col2\" >1.000000</td>\n",
              "      <td id=\"T_ea207_row19_col3\" class=\"data row19 col3\" >1.000000</td>\n",
              "      <td id=\"T_ea207_row19_col4\" class=\"data row19 col4\" >1.000000</td>\n",
              "      <td id=\"T_ea207_row19_col5\" class=\"data row19 col5\" >0.000000</td>\n",
              "    </tr>\n",
              "    <tr>\n",
              "      <th id=\"T_ea207_level0_row20\" class=\"row_heading level0 row20\" >20</th>\n",
              "      <td id=\"T_ea207_row20_col0\" class=\"data row20 col0\" >48</td>\n",
              "      <td id=\"T_ea207_row20_col1\" class=\"data row20 col1\" >1.000000</td>\n",
              "      <td id=\"T_ea207_row20_col2\" class=\"data row20 col2\" >0.000000</td>\n",
              "      <td id=\"T_ea207_row20_col3\" class=\"data row20 col3\" >0.000000</td>\n",
              "      <td id=\"T_ea207_row20_col4\" class=\"data row20 col4\" >1.000000</td>\n",
              "      <td id=\"T_ea207_row20_col5\" class=\"data row20 col5\" >1.000000</td>\n",
              "    </tr>\n",
              "    <tr>\n",
              "      <th id=\"T_ea207_level0_row21\" class=\"row_heading level0 row21\" >21</th>\n",
              "      <td id=\"T_ea207_row21_col0\" class=\"data row21 col0\" >35</td>\n",
              "      <td id=\"T_ea207_row21_col1\" class=\"data row21 col1\" >1.000000</td>\n",
              "      <td id=\"T_ea207_row21_col2\" class=\"data row21 col2\" >1.000000</td>\n",
              "      <td id=\"T_ea207_row21_col3\" class=\"data row21 col3\" >0.000000</td>\n",
              "      <td id=\"T_ea207_row21_col4\" class=\"data row21 col4\" >0.000000</td>\n",
              "      <td id=\"T_ea207_row21_col5\" class=\"data row21 col5\" >1.000000</td>\n",
              "    </tr>\n",
              "    <tr>\n",
              "      <th id=\"T_ea207_level0_row22\" class=\"row_heading level0 row22\" >22</th>\n",
              "      <td id=\"T_ea207_row22_col0\" class=\"data row22 col0\" >34</td>\n",
              "      <td id=\"T_ea207_row22_col1\" class=\"data row22 col1\" >1.000000</td>\n",
              "      <td id=\"T_ea207_row22_col2\" class=\"data row22 col2\" >0.000000</td>\n",
              "      <td id=\"T_ea207_row22_col3\" class=\"data row22 col3\" >1.000000</td>\n",
              "      <td id=\"T_ea207_row22_col4\" class=\"data row22 col4\" >0.000000</td>\n",
              "      <td id=\"T_ea207_row22_col5\" class=\"data row22 col5\" >1.000000</td>\n",
              "    </tr>\n",
              "    <tr>\n",
              "      <th id=\"T_ea207_level0_row23\" class=\"row_heading level0 row23\" >23</th>\n",
              "      <td id=\"T_ea207_row23_col0\" class=\"data row23 col0\" >33</td>\n",
              "      <td id=\"T_ea207_row23_col1\" class=\"data row23 col1\" >1.000000</td>\n",
              "      <td id=\"T_ea207_row23_col2\" class=\"data row23 col2\" >1.000000</td>\n",
              "      <td id=\"T_ea207_row23_col3\" class=\"data row23 col3\" >1.000000</td>\n",
              "      <td id=\"T_ea207_row23_col4\" class=\"data row23 col4\" >1.000000</td>\n",
              "      <td id=\"T_ea207_row23_col5\" class=\"data row23 col5\" >0.000000</td>\n",
              "    </tr>\n",
              "    <tr>\n",
              "      <th id=\"T_ea207_level0_row24\" class=\"row_heading level0 row24\" >24</th>\n",
              "      <td id=\"T_ea207_row24_col0\" class=\"data row24 col0\" >28</td>\n",
              "      <td id=\"T_ea207_row24_col1\" class=\"data row24 col1\" >0.000000</td>\n",
              "      <td id=\"T_ea207_row24_col2\" class=\"data row24 col2\" >1.000000</td>\n",
              "      <td id=\"T_ea207_row24_col3\" class=\"data row24 col3\" >0.000000</td>\n",
              "      <td id=\"T_ea207_row24_col4\" class=\"data row24 col4\" >1.000000</td>\n",
              "      <td id=\"T_ea207_row24_col5\" class=\"data row24 col5\" >1.000000</td>\n",
              "    </tr>\n",
              "    <tr>\n",
              "      <th id=\"T_ea207_level0_row25\" class=\"row_heading level0 row25\" >25</th>\n",
              "      <td id=\"T_ea207_row25_col0\" class=\"data row25 col0\" >22</td>\n",
              "      <td id=\"T_ea207_row25_col1\" class=\"data row25 col1\" >0.000000</td>\n",
              "      <td id=\"T_ea207_row25_col2\" class=\"data row25 col2\" >1.000000</td>\n",
              "      <td id=\"T_ea207_row25_col3\" class=\"data row25 col3\" >1.000000</td>\n",
              "      <td id=\"T_ea207_row25_col4\" class=\"data row25 col4\" >0.000000</td>\n",
              "      <td id=\"T_ea207_row25_col5\" class=\"data row25 col5\" >1.000000</td>\n",
              "    </tr>\n",
              "    <tr>\n",
              "      <th id=\"T_ea207_level0_row26\" class=\"row_heading level0 row26\" >26</th>\n",
              "      <td id=\"T_ea207_row26_col0\" class=\"data row26 col0\" >15</td>\n",
              "      <td id=\"T_ea207_row26_col1\" class=\"data row26 col1\" >0.000000</td>\n",
              "      <td id=\"T_ea207_row26_col2\" class=\"data row26 col2\" >0.000000</td>\n",
              "      <td id=\"T_ea207_row26_col3\" class=\"data row26 col3\" >1.000000</td>\n",
              "      <td id=\"T_ea207_row26_col4\" class=\"data row26 col4\" >1.000000</td>\n",
              "      <td id=\"T_ea207_row26_col5\" class=\"data row26 col5\" >1.000000</td>\n",
              "    </tr>\n",
              "    <tr>\n",
              "      <th id=\"T_ea207_level0_row27\" class=\"row_heading level0 row27\" >27</th>\n",
              "      <td id=\"T_ea207_row27_col0\" class=\"data row27 col0\" >12</td>\n",
              "      <td id=\"T_ea207_row27_col1\" class=\"data row27 col1\" >1.000000</td>\n",
              "      <td id=\"T_ea207_row27_col2\" class=\"data row27 col2\" >0.000000</td>\n",
              "      <td id=\"T_ea207_row27_col3\" class=\"data row27 col3\" >1.000000</td>\n",
              "      <td id=\"T_ea207_row27_col4\" class=\"data row27 col4\" >1.000000</td>\n",
              "      <td id=\"T_ea207_row27_col5\" class=\"data row27 col5\" >1.000000</td>\n",
              "    </tr>\n",
              "    <tr>\n",
              "      <th id=\"T_ea207_level0_row28\" class=\"row_heading level0 row28\" >28</th>\n",
              "      <td id=\"T_ea207_row28_col0\" class=\"data row28 col0\" >12</td>\n",
              "      <td id=\"T_ea207_row28_col1\" class=\"data row28 col1\" >1.000000</td>\n",
              "      <td id=\"T_ea207_row28_col2\" class=\"data row28 col2\" >1.000000</td>\n",
              "      <td id=\"T_ea207_row28_col3\" class=\"data row28 col3\" >0.000000</td>\n",
              "      <td id=\"T_ea207_row28_col4\" class=\"data row28 col4\" >1.000000</td>\n",
              "      <td id=\"T_ea207_row28_col5\" class=\"data row28 col5\" >1.000000</td>\n",
              "    </tr>\n",
              "    <tr>\n",
              "      <th id=\"T_ea207_level0_row29\" class=\"row_heading level0 row29\" >29</th>\n",
              "      <td id=\"T_ea207_row29_col0\" class=\"data row29 col0\" >9</td>\n",
              "      <td id=\"T_ea207_row29_col1\" class=\"data row29 col1\" >0.000000</td>\n",
              "      <td id=\"T_ea207_row29_col2\" class=\"data row29 col2\" >1.000000</td>\n",
              "      <td id=\"T_ea207_row29_col3\" class=\"data row29 col3\" >1.000000</td>\n",
              "      <td id=\"T_ea207_row29_col4\" class=\"data row29 col4\" >1.000000</td>\n",
              "      <td id=\"T_ea207_row29_col5\" class=\"data row29 col5\" >1.000000</td>\n",
              "    </tr>\n",
              "    <tr>\n",
              "      <th id=\"T_ea207_level0_row30\" class=\"row_heading level0 row30\" >30</th>\n",
              "      <td id=\"T_ea207_row30_col0\" class=\"data row30 col0\" >7</td>\n",
              "      <td id=\"T_ea207_row30_col1\" class=\"data row30 col1\" >1.000000</td>\n",
              "      <td id=\"T_ea207_row30_col2\" class=\"data row30 col2\" >1.000000</td>\n",
              "      <td id=\"T_ea207_row30_col3\" class=\"data row30 col3\" >1.000000</td>\n",
              "      <td id=\"T_ea207_row30_col4\" class=\"data row30 col4\" >0.000000</td>\n",
              "      <td id=\"T_ea207_row30_col5\" class=\"data row30 col5\" >1.000000</td>\n",
              "    </tr>\n",
              "    <tr>\n",
              "      <th id=\"T_ea207_level0_row31\" class=\"row_heading level0 row31\" >31</th>\n",
              "      <td id=\"T_ea207_row31_col0\" class=\"data row31 col0\" >4</td>\n",
              "      <td id=\"T_ea207_row31_col1\" class=\"data row31 col1\" >1.000000</td>\n",
              "      <td id=\"T_ea207_row31_col2\" class=\"data row31 col2\" >1.000000</td>\n",
              "      <td id=\"T_ea207_row31_col3\" class=\"data row31 col3\" >1.000000</td>\n",
              "      <td id=\"T_ea207_row31_col4\" class=\"data row31 col4\" >1.000000</td>\n",
              "      <td id=\"T_ea207_row31_col5\" class=\"data row31 col5\" >1.000000</td>\n",
              "    </tr>\n",
              "    <tr>\n",
              "      <th id=\"T_ea207_level0_row32\" class=\"row_heading level0 row32\" >32</th>\n",
              "      <td id=\"T_ea207_row32_col0\" class=\"data row32 col0\" >1</td>\n",
              "      <td id=\"T_ea207_row32_col1\" class=\"data row32 col1\" >0.000000</td>\n",
              "      <td id=\"T_ea207_row32_col2\" class=\"data row32 col2\" >2.000000</td>\n",
              "      <td id=\"T_ea207_row32_col3\" class=\"data row32 col3\" >0.000000</td>\n",
              "      <td id=\"T_ea207_row32_col4\" class=\"data row32 col4\" >0.000000</td>\n",
              "      <td id=\"T_ea207_row32_col5\" class=\"data row32 col5\" >0.000000</td>\n",
              "    </tr>\n",
              "    <tr>\n",
              "      <th id=\"T_ea207_level0_row33\" class=\"row_heading level0 row33\" >33</th>\n",
              "      <td id=\"T_ea207_row33_col0\" class=\"data row33 col0\" >1</td>\n",
              "      <td id=\"T_ea207_row33_col1\" class=\"data row33 col1\" >9.000000</td>\n",
              "      <td id=\"T_ea207_row33_col2\" class=\"data row33 col2\" >1.000000</td>\n",
              "      <td id=\"T_ea207_row33_col3\" class=\"data row33 col3\" >9.000000</td>\n",
              "      <td id=\"T_ea207_row33_col4\" class=\"data row33 col4\" >1.000000</td>\n",
              "      <td id=\"T_ea207_row33_col5\" class=\"data row33 col5\" >9.000000</td>\n",
              "    </tr>\n",
              "  </tbody>\n",
              "</table>\n"
            ]
          },
          "metadata": {},
          "execution_count": 50
        }
      ],
      "source": [
        "# Building the distribution dataframe\n",
        "data_distribution = ds[list_categories].value_counts().reset_index()\n",
        "data_distribution.columns = list_categories + ['number of occurrences']\n",
        "data_distribution = data_distribution[['number of occurrences'] + list_categories]\n",
        "\n",
        "data_distribution.style.apply(lambda x: ['background-color: yellow']*len(x) if x.name == 'number of occurrences' else ['']*len(x), axis=0)"
      ]
    },
    {
      "cell_type": "markdown",
      "metadata": {
        "id": "mpOTHvy-iWAq"
      },
      "source": [
        "The table above outlines the distribution of various combinations of labels and their occurrences. Based on it, it can be observed that:\n",
        "- Some combinations of labels are much more frequent than others. The table shows an imbalanced distribution of labels.\n",
        "- Labels like Construction and Durability are often present in high-frequency combinations.\n",
        "- Certain combinations with multiple labels are relatively rare."
      ]
    },
    {
      "cell_type": "code",
      "execution_count": null,
      "metadata": {
        "colab": {
          "base_uri": "https://localhost:8080/"
        },
        "id": "h9EarHfuyBD2",
        "outputId": "7587490f-47a9-4b1c-e93c-997f04110861"
      },
      "outputs": [
        {
          "output_type": "stream",
          "name": "stdout",
          "text": [
            "3\n"
          ]
        }
      ],
      "source": [
        "print(sum(ds[list_categories].value_counts() <= 5))"
      ]
    },
    {
      "cell_type": "markdown",
      "source": [
        "There are 3 combinations that have few occurrences."
      ],
      "metadata": {
        "id": "ZwZsuCpEcJRC"
      }
    },
    {
      "cell_type": "markdown",
      "source": [
        "Now, because it would be helpful later while stratifying, I will delete the combinations with occurrences <=1."
      ],
      "metadata": {
        "id": "D9ydjhiEOb1k"
      }
    },
    {
      "cell_type": "code",
      "source": [
        "infrequent_combinations = data_distribution[data_distribution['number of occurrences'] <= 1] # combinations with number of occurrences <= 1\n",
        "merged = ds.reset_index().merge(infrequent_combinations[list_categories], on=list_categories, how='inner') #identify the rows\n",
        "indexes_to_remove = merged['index']\n",
        "\n",
        "ds = ds.drop(indexes_to_remove)"
      ],
      "metadata": {
        "id": "13Huf50BD9g_"
      },
      "execution_count": null,
      "outputs": []
    },
    {
      "cell_type": "code",
      "source": [
        "print(sum(ds[list_categories].value_counts() <= 5))"
      ],
      "metadata": {
        "colab": {
          "base_uri": "https://localhost:8080/"
        },
        "id": "Z6adI85NFHev",
        "outputId": "0005a658-cf79-4b0e-fa5e-53bf4792465f"
      },
      "execution_count": null,
      "outputs": [
        {
          "output_type": "stream",
          "name": "stdout",
          "text": [
            "1\n"
          ]
        }
      ]
    },
    {
      "cell_type": "markdown",
      "metadata": {
        "id": "KsUhLAHRaUic"
      },
      "source": [
        "**Building input text and labels**"
      ]
    },
    {
      "cell_type": "code",
      "execution_count": null,
      "metadata": {
        "id": "0iFVeSX5atE4"
      },
      "outputs": [],
      "source": [
        "text = ds['Title'] + ds['Review']\n",
        "text = text.astype(str)\n",
        "labels = ds[list_categories].values"
      ]
    },
    {
      "cell_type": "code",
      "execution_count": null,
      "metadata": {
        "colab": {
          "base_uri": "https://localhost:8080/"
        },
        "id": "ZCmBkFR-jI69",
        "outputId": "ac930d37-f0c0-4b58-a868-4e1c178d8c94"
      },
      "outputs": [
        {
          "output_type": "execute_result",
          "data": {
            "text/plain": [
              "count    5412.000000\n",
              "mean       41.415558\n",
              "std        33.114214\n",
              "min         1.000000\n",
              "25%        16.000000\n",
              "50%        32.000000\n",
              "75%        58.000000\n",
              "max       365.000000\n",
              "dtype: float64"
            ]
          },
          "metadata": {},
          "execution_count": 55
        }
      ],
      "source": [
        "text.apply(lambda x: len(x.split(\" \"))).describe() # let's see a summary of number of words in each row"
      ]
    },
    {
      "cell_type": "markdown",
      "source": [
        "*Observations:*\n",
        "- The average review length is approximately 41 words, but the median review\n",
        "length is 32 words. This indicates a right-skewed distribution where a smaller number of reviews have significantly more words than the average.\n",
        "- The standard deviation of 33.11 suggests a high degree of variability in review lengths. Some reviews are much longer or shorter than the mean.\n",
        "- The interquartile range (IQR), which is the difference between the 75th percentile and the 25th percentile, is 42 words (58 - 16), showing the middle 50% of reviews vary widely in length.\n",
        "- The shortest review contains only 1 word, while the longest review contains 365 words. This large range (1 to 365) indicates a significant spread in the data.\n"
      ],
      "metadata": {
        "id": "9yD-q8iNf5_7"
      }
    },
    {
      "cell_type": "markdown",
      "source": [
        "Based on my observations I will choose the vocabulary size and output sentence length in the next step."
      ],
      "metadata": {
        "id": "Oq_WgVhljkw4"
      }
    },
    {
      "cell_type": "markdown",
      "metadata": {
        "id": "itF_elFFlUG1"
      },
      "source": [
        "**Tokenizer process**"
      ]
    },
    {
      "cell_type": "code",
      "execution_count": null,
      "metadata": {
        "colab": {
          "base_uri": "https://localhost:8080/"
        },
        "id": "3x4QTgs6lWy5",
        "outputId": "ad5e35f6-a57e-4d38-e7a8-2ea99c2c20b8"
      },
      "outputs": [
        {
          "output_type": "stream",
          "name": "stdout",
          "text": [
            "['', '[UNK]', 'the', 'and', 'i', 'it', 'a', 'is', 'to', 'this', 'in', 'for', 'but', 'dress', 'of', 'was', 'not', 'on', 'so', 'very', 'my', 'with', 'love', 'that', 'great', 'have', 'fit', 'like', 'are', 'color', 'as', 'wear', 'size', 'be', 'too', 'comfortable', 'fabric', 'its', 'just', 'you', 'me', 'or', 'at', 'up', 'they', 'one', 'perfect', 'material', 'cute', 'would', 'nice', 'quality', 'flattering', 'top', 'more', 'soft', 'if', 'well', 'good', 'will', 'am', 'sweater', 'really', 'little', 'all', 'fits', 'them', 'ordered', 'small', 'out', 'had', 'these', 'because', 'bought', 'than', 'im', 'beautiful', 'look', 'after', 'colors', 'got', 'can', 'it’s', 'looks', 'super', 'an', 'when', 'pretty', 'has', 'bit', 'back', 'much', 'large', 'down', 'also', 'no', 'made', 'work', 'only', 'pants', 'even', 'about', 'buy', 'from', 'get', 'long', 'which', 'medium', 'shirt', 'were', 'first', 'summer', 'see', 'loved', 'time', 'black', 'wearing', 'comfy', 'there', 'way', 'length', 'what', 'big', 'did', 'right', 'other', 'short', 'wore', 'price', 'jeans', 'do', 'waist', 'off', 'i’m', 'enough', 'still', 'compliments', 'light', 'could', 'worn', 'thin', 'purchased', 'true', 'some', 'definitely', 'feel', 'dont', 'your', 'style', 'many', 'tight', 'around', 'runs', 'perfectly', 'pockets', 'recommend', 'tried', 'wash', 'didnt', 'think', 'casual', 'apart', 'white', 'looked', 'been', 'poor', 'two', 'wanted', 'through', 'pair', 'go', 'going', 'how', 'however', 'better', 'another', 'jacket', 'weight', 'received', 'need', 'looking', 'does', 'different', 'day', 'fall', 'expected', 'dresses', 'cheap', 'sleeves', 'skirt', 'cut', 'order', 'return', 'petite', 'stretch', 'washed', 'loose', 'lot', 'zipper', 'over', 'blue', 'warm', 'ripped', 'usually', 'now', '2', 'both', 'want', 'though', 'store', 'body', 'any', 'green', 'front', 'chest', 'purchase', 'retailer', 'disappointed', 'sure', 'same', 'feels', 'design', 'came', 'thick', 'make', 'by', 'xs', 'sheer', 'online', 'every', 'being', 'find', 'few', 'easy', 'side', 'high', 'then', 'lovely', 'favorite', 'again', 'shorts', 'something', 'returned', 'felt', 'stretchy', '5', 'already', 'wedding', 'area', 'overall', 'lbs', 'absolutely', 'thought', 'durable', 'bra', 'without', 'under', 'reviews', 'most', 'bottom', 'put', 'keep', 'happy', 'worth', 'since', 'before', 'almost', 'picture', 'cotton', 'red', '3', 'try', 'makes', 'bust', 'wish', 'lightweight', 'shape', 'person', 'dressi', 'ive', 'everything', 'arms', 'doesnt', 'heavy', 'gorgeous', 'amazing', 'cant', 'bad', 'pattern', 'probably', 'fine', 'went', 'new', 'washing', 'nicely', 'longer', 'hot', 'may', 'quite', 'product', 'last', 'button', 'print', 'while', 'didn’t', 'amazon', 'once', 'easily', 'best', 'xl', 'blouse', 'times', 'pilling', 'hips', 'fun', 'might', 'normally', 'liked', 'dressthis', 'where', 'larger', 'cool', 'don’t', 'coat', 'wasnt', 'slightly', 'days', 'buying', 'underneath', 'pink', 'money', 'fell', '4', 'yet', 'unfortunately', 'stitching', 'sale', 'regular', 'photo', 'model', 'actually', 'buttons', 'second', 'into', 'dressed', 'should', 'washes', 'smaller', 'sizes', 'run', 'never', 'found', 'several', 'returning', 'seam', 'navy', 'belt', 'sized', 'low', 'broke', '6', 'used', 'seems', 'piece', 'neck', 'item', 'anything', 'thing', 'part', 'sizing', 'dry', 'always', 'tear', 'seams', 'needed', 'lace', 'winter', 'cozy', 'shorter', 'say', 'said', 'months', 'completely', 'take', 'maybe', 'issue', 'highly', 'saw', 'give', 'flowy', 'adorable', 'use', 'nothing', 'neckline', 'lots', 'extra', 'wide', 'such', 'she', 'night', 'holes', 'hem', 'straps', 'slip', 'show', 'hole', 'exactly', 'especially', 'decided', 'dark', 'weird', 'shoulders', 'leggings', 'kind', 'coming', 'between', 'room', 'pictured', 'ok', 'huge', 'glad', 'arrived', 'unique', 'denim', 'cold', 'year', 'who', 'tie', 'spring', 'problem', 'm', 'isnt', 'come', '1', 'pocket', 'knit', 'extremely', 'bigger', 'wait', 'stylish', 'started', 'sleeve', 'normal', 'suit', 'ordering', 'ended', 'years', 'vibrant', 'tops', 'someone', 'fitted', 'can’t', 'undone', 'tall', 'pairs', 'couple', 'knee', 'instead', 'getting', 'far', 'doesn’t', 'brand', 'away', 'versatile', 'know', 'i’ve', 'figure', 'ever', 'detail', 'wears', 'snug', 'feminine', 'daughter', 'tee', 's', 'pounds', 'husband', 'house', 'falling', 'excited', 'clothes', 'wonderful', 'wasn’t', 'three', 'shoulder', 'shirts', 'must', 'bright', 'we', 'usual', 'open', 'old', 'due', 'above', 'able', '100', 'took', 'sweaters', 'plus', 'line', 'itchy', 'goes', 'full', 'either', 'arm', 'yellow', 'thats', 'skin', 'reference', 'id', 'fitting', 'deep', 'others', 'ill', 'boxy', 'although', 'works', 'hold', 'hard', '54', '10', 'type', 'thicker', 'tank', 'orange', 'less', 'leg', 'inside', 'cardigan', 'wardrobe', 'things', 'photos', 'next', 'month', 'he', 'curvy', 'boots', 'beautifully', 'weather', 'torso', 'those', 'surprised', 'simple', 'sewn', 'oversized', 'lining', 'l', 'dryer', 'comfort', 'shown', 'scratchy', 'poorly', 'noticed', 'knees', 'kept', 'inches', 'hoping', 'hit', 'elastic', 'delicate', 'collar', 'below', 'awesome', 'weeks', 'twice', 'seem', 'reviewers', 'loves', 'least', 'her', 'faded', 'end', 'elegant', 'comes', 'today', 'office', '53', 'similar', 'sent', 'immediately', 'home', 'couldnt', 'clothing', 'basic', 'soon', 'places', 'keeping', 'gave', 'except', '8', 'wont', 'tshirt', 'threads', 'plan', 'pictures', 'live', 'layer', 'grey', 'expect', 'belly', 'zip', 'youre', 'wrinkle', 'rather', 'package', 'myself', 'heels', 'hand', 'else', 'wrong', 'wrinkles', 'worried', 'waste', 'trying', 'terrible', 'tag', 'shows', 'sexy', 'qualityi', 'pull', 'pleased', 'own', 'left', 'excellent', 'disappointing', 'complaint', 'classy', 'care', '12', 'vest', 'totally', 'their', 'sides', 'pajamas', 'half', 'falls', 'cover', 'breathable', 'baggy', 'sandals', 'party', 'otherwise', 'often', 'iti', 'hope', 'here', 'having', 'hangs', 'gray', 'crotch', 'busty', 'bag', '52', 'week', 'water', 'until', 'tts', 'stunning', 'sad', 'read', 'multiple', 'hits', 'along', 'add', 'wouldnt', 'worked', 'why', 'special', 'seethrough', 'sadly', 'purple', 'people', 'ones', 'mind', 'fact', 'during', 'amount', 'value', 'topi', 'stars', 'sometimes', 'skinny', 'shrink', 'odd', 'needs', 'flat', 'classic', 'based', 'across', 'touch', 'tiny', 'stretched', 'staple', 'sold', 'reviewer', 'past', 'issues', 'gift', 'fiti', 'depending', 'cheaply', 'cami', 'typically', 'theyre', 'tell', 'season', 'ruined', 'reason', 'mentioned', 'lined', 'incredibly', 'dressy', 'darker', 'colored', '57', '56', 'wool', 'tunic', 'torn', 'together', 'that’s', 'stiff', 'stay', 'roomy', 'lol', 'lint', 'jean', 'horrible', 'gets', 'feeling', 'curves', 'cropped', 'brown', 'within', 'throw', 'son', 'shrunk', 'seemed', 'rich', 'polyester', 'machine', 'items', 'guess', 'gotten', 'frayed', 'dressthe', 'dinner', 'cutei', 'close', 'baby', 'wrap', 'won’t', 'upon', 'unflattering', 'uncomfortable', 'texture', 'sweateri', 'set', 'seen', 'quickly', 'pulled', 'prefer', 'point', 'outfit', 'mine', 'making', 'local', 'legs', 'hung', 'hours', 'hides', 'fraying', 'expensive', 'coral', 'broken', '55', 'thinking', 'tad', 'straight', 'spot', 'outside', 'middle', 'literally', 'finally', 'expecting', 'everywhere', 'each', 'described', 'cycle', 'cannot', 'barely', 'awkward', 'ago', 'wrinkled', 'thinner', 'sweatshirt', 'review', 'pregnant', 'place', 'paired', 'occasion', 'gives', 'girl', 'everyday', 'dye', 'cream', 'appears', 'ankle', 'version', 'thread', 't', 'says', 'pay', 'our', 'lower', 'likely', 'isn’t', 'his', 'higher', 'heavier', 'flimsy', 'flatteringi', 'fix', 'evening', 'dresslove', 'details', 'comfortablei', 'blazer', '14', 'woman', 'us', 'skirts', 'recommended', 'real', 'please', 'mid', 'maternity', 'imagine', 'help', 'havent', 'hang', 'forward', 'fantastic', 'fan', 'fabulous', 'event', 'drapes', 'deal', 'believe', 'awful', 'agree', '58', 'theres', 'tearing', 'slim', 'showing', 'ripping', 'ran', 'qualitythe', 'putting', 'perhaps', 'move', 'maxi', 'lighter', 'keeps', 'i’d', 'instructions', 'heat', 'entire', 'boobs', 'beige', 'beach', 'areas', 'anyone', 'whole', 'vneck', 'unwearable', 'truly', 'trip', 'tights', 'swing', 'stomach', 'somewhat', 'rip', 'rest', 'previous', 'plain', 'pant', 'mail', 'hoped', 'gone', 'gentle', 'flows', 'fast', 'considering', 'cleavage', 'case', 'bulky', 'became', 'airy', '30', 'xxs', 'wouldn’t', 'women', 'unless', 'tore', 'thighs', 'start', 'running', 'patterns', 'okay', 'lovei', 'lose', 'knew', 'kinda', 'holds', 'frame', 'done', 'difference', 'description', 'date', 'cup', 'cost', 'comfortably', 'clingy', 'butt', 'against', 'addition', '59', '0', 'weigh', 'tighter', 'teal', 'taller', 'subtle', 'star', 'sort', 'slit', 'paid', 'option', 'neutral', 'near', 'looser', 'leather', 'late', 'jackets', 'hip', 'height', 'glove', 'girls', 'form', 'forgiving', 'drape', 'change', 'business', 'available', 'armholes', '150', 'yes', 'w', 'vacation', 'unraveling', 'tummy', 'third', 'solid', 'softness', 'snags', 'purchasing', 'pilled', 'materials', 'lost', 'linen', 'leave', 'layering', 'lasted', 'job', 'ivory', 'itself', 'iron', 'hair', 'gold', 'floral', 'feet', 'embroidery', 'coverage', 'bother', 'band', 'afraid', 'advertised', 'adds', 'added', 'waisted', 'throughout', 'thank', 'tan', 'stripes', 'stick', 'smell', 'relaxed', 'refund', 'recently', 'plenty', 'pieces', 'owned', 'modest', 'mei', 'loops', 'interesting', 'hoodie', 'hide', 'hemmed', 'given', 'garment', 'flare', 'dressvery', 'crazy', 'covered', 'closet', 'clean', 'careful', 'bottoms', 'blend', 'adjustable', '130', '125', 'zippers', 'worst', 'worry', 'working', 'v', 'upper', 'tied', 'strings', 'simply', 'shade', 'scarf', 'replace', 'receive', 'plastic', 'perfecti', 'nude', 'noticeable', 'notice', 'midi', 'match', 'lounge', 'life', 'lay', 'later', 'idea', 'finding', 'family', 'fairly', 'expectations', 'exchange', 'dried', 'dressgreat', 'difficult', 'cutethis', 'couldn’t', 'comfortablethis', 'cling', 'choice', 'chance', 'caught', 'average', 'attractive', 'appropriate', 'appear', 'anyway', '51', '34', '140', 'travel', 'thanks', 'tears', 'tags', 'stretches', 'send', 'seeing', 'purchases', 'pricey', 'portion', 'pin', 'pilcro', 'peach', 'originally', 'opened', 'olive', 'note', 'mostly', 'missing', 'lines', 'inch', 'honestly', 'him', 'helps', 'held', 'hate', 'happen', 'hanging', 'flow', 'fabrics', 'doing', 'despite', 'decent', 'd', 'complements', 'c', 'burgundy', 'become', 'anywhere', '50', '115', 'wider', 'waistband', 'surprisingly', 'surprise', 'substantial', 'sturdy', 'stand', 'split', 'snag', 'slight', 'sit', 'shower', 'shoes', 'shaped', 'rough', 'revealing', 'pulling', 'pjs', 'opinion', 'oh', 'mom', 'minute', 'lounging', 'lee', 'ladies', 'jewelry', 'itthis', 'holding', 'hanger', 'free', 'four', 'five', 'exact', 'errands', 'cooler', 'complaints', 'company', 'church', 'began', 'bc', 'attached', 'air', 'accessories', 'you’re', 'xxl', 'window', 'they’re', 'tend', 'styling', 'stuck', 'string', 'starting', 'spandex', 'slimming', 'sitting', 'silk', 'sewing', 'sew', 'section', 'rose', 'roll', 'replacement', 'receiving', 'pulls', 'prints', 'pleasantly', 'pajama', 'options', 'necklace', 'liking', 'jumpsuit', 'hugs', 'hourglass', 'hopes', 'frumpy', 'fray', 'flowers', 'floor', 'eye', 'exceeded', 'events', 'dressit', 'damaged', 'construction', 'colorthe', 'colori', 'closed', 'christmas', 'chested', 'cause', 'bummer', 'breast', 'actual', 'according', '810', '34c', '1st', 'write', 'wine', 'wellmade', 'ways', 'washings', 'ton', 'thickness', 'taken', 'styles', 'strap', 'sneakers', 'smooth', 'showed', 'sewed', 'round', 'regret', 'properly', 'picked', 'pic', 'pass', 'noted', 'minutes', 'meant', 'means', 'mean', 'materiali', 'loop', 'let', 'layers', 'label', 'keeper', 'justice', 'impressed', 'formal', 'flowing', 'fabrici', 'currently', 'course', 'correct', 'consider', 'camisole', 'beware', 'ankles', 'adjust', '5’5”', '36', '20', 'youd', 'using', 'typical', 'transition', 'thigh', 'sweaterthis', 'sweat', 'structure', 'strong', 'stripe', 'strange', 'sticky', 'stains', 'soooo', 'somehow', 'silky', 'shirti', 'shiny', 'save', 'ruffle', 'reading', 'problems', 'prime', 'pick', 'phone', 'pencil', 'pale', 'opening', 'natural', 'liner', 'lift', 'lb', 'lays', 'layered', 'hour', 'hopefully', 'garbage', 'fully', 'friends', 'flats', 'fashion', 'everyone', 'enjoy', 'downside', 'dots', 'detailing', 'delivered', 'crop', 'combination', 'colorful', 'carry', 'breezy', 'bodice', 'birthday', 'basically', 'badly', 'athletic', 'alone', 'absolute', '5’4”', '36d', '34b', '135', '120', 'wow', 'wants', 'walking', 'unusual', 'topthis', 'tons', 'thru', 'taste', 'taking', 'swimsuit', 'supposed', 'structured', 'stores', 'spots', 'smalli', 'sleep', 'shrinks', 'shrinking', 'seriously', 'seasons', 'school', 'rips', 'returns', 'rear', 'ready', 'prettier', 'possible', 'pop', 'pills', 'pics', 'overpriced', 'occasions', 'number', 'negative', 'modesty', 'measurements', 'lovethis', 'lack', 'i’ll', 'goto', 'giving', 'generous', 'gap', 'florida', 'fleece', 'flatteringthis', 'flares', 'fashionable', 'exchanged', 'exception', 'edges', 'dressing', 'disappointment', 'cuter', 'cuffs', 'cuff', 'clearly', 'chic', 'check', 'chart', 'casually', 'build', 'break', 'brands', 'booties', 'bigi', 'biggest', 'beautifuli', 'bathing', 'asked', 'armpit', 'arent', 'accurate', '40', 'wife', 'weekend', 'warmer', 'underwear', 'turned', 'tent', 'taupe', 'swimming', 'support', 'stock', 'springsummer', 'sorry', 'softer', 'snap', 'sets', 'romantic', 'qualitythis', 'pullover', 'proportions', 'positive', 'planning', 'per', 'obviously', 'nearly', 'name', 'mother', 'metallic', 'mention', 'materialthe', 'likes', 'leaving', 'itlove', 'ironing', 'initially', 'humid', 'hte', 'holiday', 'hidden', 'haven’t', 'happened', 'future', 'funeral', 'followed', 'fitlove', 'figured', 'fence', 'fault', 'experience', 'essentials', 'drop', 'disappointedi', 'defective', 'dance', 'control', 'conservative', 'certainly', 'broad', 'beyond', 'arrival', 'anymore', 'aline', 'adore', '5’6”', '5’3', '510', '16', '15', '105', 'youll', 'wouldve', 'washer', 'unlike', 'undergarments', 'turquoise', 'trim', 'total', 'tone', 'told', 'takes', 'tailored', 'sweet', 'sweaterthe', 'stretching', 'stitched', 'stated', 'spend', 'softest', 'smallthis', 'slender', 'site', 'shocked', 'shipping', 'shipped', 'satisfied', 'ribbed', 'quick', 'printed', 'prettyi', 'popped', 'plaid', 'pill', 'perfectthis', 'penny', 'pear', 'parts', 'outdoor', 'older', 'nicer', 'motif', 'matter', 'massive', 'major', 'lucky', 'lavender', 'interest', 'inner', 'hesitant', 'gonna', 'generally', 'functional', 'foot', 'flirty', 'flaw', 'fixed', 'fancy', 'etc', 'edge', 'drying', 'dressperfect', 'drawstring', 'designed', 'cutelove', 'covers', 'costume', 'confident', 'concerned', 'comfyi', 'closer', 'chose', 'cheaper', 'changed', 'bunch', 'bumps', 'bump', 'bring', 'bow', 'backside', 'b', 'avoid', 'appeared', 'allows', 'additional', '3rd', '2x', '2nd', '145', '1012', 'zero', 'young', 'xsmall', 'wrapped', 'wonderfully', 'wind', 'wedges', 'warmth', 'wanting', 'waiting', 'waistline', 'upset', 'unsure', 'ultimately', 'ugly', 'types', 'tucked', 'trash', 'ties', 'thrilled', 'teei', 'sun', 'styled', 'striped', 'stop', 'south', 'softi', 'single', 'shrank', 'shot', 'sheath', 'service', 'sense', 'seller', 'seat', 'sat', 'ruffles', 'rise', 'realize', 'pricei', 'priced', 'pregnancy', 'practical', 'post', 'possibly', 'petites', 'personally', 'pantsthese', 'p', 'overly', 'oni', 'none', 'nightgown', 'necessary', 'narrow', 'materialthis', 'loving', 'laundry', 'lady', 'kasper', 'jersey', 'imperfections', 'hug', 'hubby', 'head', 'handle', 'guest', 'graduation', 'game', 'funky', 'friend', 'fresh', 'flatteringthe', 'fitthe', 'faux', 'fallwinter', 'fair', 'fading', 'expectedi', 'engagement', 'dressnice', 'dressloved', 'dressi’m', 'dressim', 'dressdress', 'dressbought', 'daughters', 'daily', 'couldve', 'compared', 'columbia', 'colder', 'climate', 'choose', 'chilly', 'car', 'buti', 'boiled', 'bo', 'beauty', 'beautifulthis', 'arrive', 'amazingly', 'alternative', 'alas', '5’7', '5’4', '5’3”', '5’2”', '28', '160', '1010', 'yarn', 'yard', 'would’ve', 'worse', 'womens', 'wished', 'whether', 'whatever', 'weave', 'weari', 'watch', 'washable', 'walk', 'waited', 'vintage', 'vibe', 'versatilei', 'u', 'tones', 'there’s', 'therefore', 'terribly', 'tailor', 'swim', 'suggest', 'stylei', 'stuff', 'stain', 'spilling', 'space', 'sooo', 'smells', 'slits', 'slacks', 'skirti', 'shrinkage', 'shouldnt', 'shapeless', 'shame', 'separate', 'sending', 'sales', 'safety', 'sack', 'repair', 'reordered', 'remove', 'reasonable', 'realized', 'rayon', 'rain', 'pros', 'poly', 'pleats', 'placed', 'particular', 'overwhelming', 'outer', 'opted', 'o', 'nursing', 'n', 'mustard', 'movement', 'moment', 'modern', 'missed', 'minimal', 'midsection', 'mess', 'mauve', 'maroon', 'main', 'maeve', 'lumps', 'luckily', 'loosely', 'load', 'kimono', 'jacketi', 'itll', 'itch', 'ironed', 'inseam', 'indoors', 'incredible', 'including', 'image', 'hugging', 'hook', 'helped', 'handful', 'halloween', 'greati', 'grandson', 'goodness', 'flops', 'flexible', 'flatter', 'favorites', 'fabricthe', 'exposed', 'everi', 'ends', 'embroidered', 'drawn', 'doubt', 'developed', 'designs', 'decide', 'dd', 'crisp', 'concern', 'complimentsthis', 'comfortablevery', 'colorthis', 'cleaning', 'chunky', 'cheapi', 'center', 'called', 'buyer', 'burnt', 'brighter', 'boho', 'bed', 'aware', 'armpits', 'appearance', 'andor', 'affordable', 'adding', 'accentuates', '7', '5’9”', '5’2', '38', '34d', '26', '25', '165', '145lbs', 'younger', 'xss', 'wrist', 'woven', 'workmanship', 'winner', 'wearable', 'weak', 'vivid', 'update', 'unraveled', 'unfortunate', 'undershirt', 'unbuttoned', 'tuck', 'trouble', 'threw', 'tho', 'theyve', 'th', 'texas', 'teacher', 'tanks', 'summery', 'suited', 'stitch', 'stiching', 'stays', 'staying', 'static', 'soo', 'somewhere', 'snagged', 'smallvery', 'sloppy', 'sleeveless', 'skeptical', 'sister', 'silhouette', 'significantly', 'shortsi', 'shopping', 'shoot', 'sheerness', 'self', 'searching', 'scoop', 'ruin', 'ruching', 'royal', 'romper', 'risk', 'ridiculous', 'rid', 'removed', 'recent', 'puffy', 'professional', 'prettythis', 'potential', 'pleasant', 'placement', 'picturedi', 'perfectlove', 'patterned', 'pastel', 'particularly', 'panels', 'panel', 'oddly', 'october', 'obvious', 'nor', 'nope', 'moss', 'models', 'mild', 'methe', 'meet', 'matronly', 'matching', 'madei', 'levi’s', 'levis', 'knock', 'klein', 'khaki', 'jeansi', 'itloved', 'instore', 'ideal', 'hood', 'halter', 'gown', 'gorgeousi', 'gained', 'fyi', 'fuzzy', 'further', 'fullness', 'ft', 'fragile', 'flip', 'flatteringvery', 'flared', 'flair', 'fat', 'fake', 'fade', 'evenings', 'elbow', 'effect', 'ease', 'duty', 'durability', 'downi', 'double', 'dot', 'dickies', 'describe', 'degree', 'dancing', 'cutest', 'customer', 'create', 'correctly', 'constructed', 'complimented', 'compliment', 'comments', 'comfortablelove', 'combo', 'cocktail', 'cloth', 'closure', 'capsule', 'calvin', 'calf', 'busy', 'busted', 'bunched', 'bummed', 'bum', 'bridal', 'boyfriend', 'box', 'booty', 'blush', 'blouses', 'blousei', 'bell', 'beginning', 'baseball', 'attention', 'aparti', 'age', 'accessorize', '95', '68', '5’8', '5’6', '36c', '23', '1214', '110', '😍', 'yesterday', 'yay', 'wrangler', 'wonder', 'winters', 'wasted', 'washi', 'wallet', 'velvet', 'various', 'understand', 'turns', 'turn', 'trend', 'timeless', 'thus', 'themselves', 'themi', 'terrific', 'tennis', 'tempted', 'suitcase', 'sophisticated', 'smelled', 'slouchy', 'slimmer', 'sizei', 'six', 'silver', 'shop', 'setting', 'secure', 'scuba', 'rust', 'rippedi', 'required', 'replaced', 'qualitylove', 'provides', 'prevent', 'prairie', 'postpartum', 'pooch', 'plum', 'picky', 'peplum', 'passed', 'paper', 'paige', 'pack', 'onto', 'offi', 'offer', 'obsessed', 'nonetheless', 'nights', 'nicei', 'needless', 'mixed', 'mix', 'miss', 'misleading', 'million', 'methis', 'messy', 'med', 'matches', 'man', 'mainly', 'luxurious', 'lululemon', 'luck', 'lovelythis', 'laid', 'lacks', 'joggers', 'itthe', 'inexpensive', 'impossible', 'imo', 'hesitate', 'hasnt', 'happier', 'guy', 'greenish', 'greatest', 'goodi', 'gaps', 'gal', 'frustrating', 'formfitting', 'fold', 'flutter', 'flaws', 'fitthis', 'fir', 'fibers', 'fiber', 'fabricthis', 'f', 'exquisite', 'empire', 'effortless', 'eat', 'easier', 'early', 'dupe', 'dressier', 'dressfits', 'distressed', 'disappoint', 'disagree', 'dirty', 'detergent', 'delivery', 'darn', 'darling', 'damage', 'cutethe', 'curvier', 'current', 'cowl', 'coverup', 'contrasting', 'continues', 'continue', 'conscious', 'condition', 'con', 'complete', 'complain', 'comfortablethese', 'comfortablethe', 'colour', 'choices', 'chests', 'charcoal', 'chambray', 'chair', 'causing', 'cardi', 'call', 'buttoned', 'built', 'brought', 'breaking', 'bonus', 'bleed', 'bleach', 'bill', 'base', 'bargain', 'balls', 'anticipated', 'animal', 'amazingthis', 'altered', 'alot', 'adn', 'accommodate', 'accentuate', '5’8”', '5’', '42', '3x', '36dd', '29', '27', '24', '185', '155', '1416', '138', '135lbs', 'zipped', 'yourself', 'xsp', 'wranglers', 'worries', 'world', 'workout', 'win', 'whim', 'welli', 'weirdly', 'website', 'wearthis', 'uses', 'useful', 'unravel', 'uniform', 'uneven', 'unbutton', 'transparent', 'tough', 'tired', 'tighten', 'thini', 'theyll', 'terms', 'tees', 'teen', 'taper', 'tape', 'sweats', 'sweaterlove', 'superior', 'summers', 'strapless', 'steaming', 'stayed', 'statement', 'staplei', 'standing', 'stained', 'spending', 'spanx', 'sooooo', 'solved', 'snaps', 'smallest', 'sm', 'slinky', 'slide', 'sleek', 'sky', 'sight', 'should’ve', 'shortwaisted', 'shortened', 'shear', 'shaver', 'shapei', 'september', 'sensitive', 'saying', 'safe', 'rotation', 'rolled', 'ridiculously', 'rides', 'ride', 'restock', 'repaired', 'remover', 'reminded', 'raw', 'rack', 'quirky', 'qualityvery', 'qualitythese', 'qualityive', 'purse', 'purchasei', 'public', 'provide', 'process', 'present', 'prepared', 'popular', 'plunge', 'personal', 'perfection', 'partially', 'paris', 'pantsi', 'paint', 'pads', 'packs', 'packaging', 'outfits', 'opportunity', 'offwhite', 'north', 'neat', 'nautica', 'nature', 'muted', 'muscular', 'mark', 'manufacturer', 'luv', 'lunch', 'lulu', 'losing', 'loosen', 'listed', 'lie', 'lg', 'level', 'lets', 'lasting', 'knowing', 'knitted', 'kelly', 'january', 'it’ll', 'itfits', 'irregular', 'irish', 'intended', 'indeed', 'imagined', 'hugei', 'horribly', 'hitting', 'hesitated', 'hes', 'hated', 'grow', 'ground', 'greatthis', 'grabbed', 'gorgeousthis', 'god', 'gaping', 'gals', 'fur', 'fuller', 'freely', 'fori', 'folks', 'folds', 'fly', 'fluffy', 'flatteringlove', 'flannel', 'fl', 'fitit', 'finish', 'fill', 'features', 'feature', 'farm', 'fallen', 'factor', 'eyelet', 'edgy', 'easter', 'dressit’s', 'dresscute', 'dressbeautiful', 'dream', 'draping', 'drapey', 'door', 'dog', 'displayed', 'discount', 'dimension', 'detailed', 'designi', 'defect', 'def', 'decision', 'debating', 'cutting', 'cruise', 'crochet', 'creates', 'crap', 'constantly', 'considered', 'cons', 'concept', 'comfythis', 'comfythe', 'comfortableit', 'collection', 'climates', 'clear', 'cleaned', 'classici', 'cinch', 'china', 'chiffon', 'certain', 'caution', 'causes', 'caused', 'catalog', 'cap', 'camel', 'calves', 'buyi', 'butthis', 'bustline', 'bulk', 'brings', 'breasts', 'boring', 'bohemian', 'blousy', 'blousethis', 'bland', 'bib', 'bend', 'behind', 'becoming', 'basics', 'ball', 'background', 'awkwardly', 'august', 'april', 'apple', 'apparent', 'anyways', 'annoying', 'alterations', 'alter', 'alittle', 'ahead', 'acrylic', 'accent', '70s', '70', '5’7”', '5’5', '5’1”', '5’1', '5ft', '511', '45', '40s', '38dd', '38c', '36b', '125lbs', '117', '115lbs', '00', '❤️', '“', 'zippered', 'you’ll', 'xxsp', 'wise', 'width', 'weighty', 'wearer', 'washingi', 'vs', 'visible', 'viscose', 'video', 'victorian', 'vests', 'vertical', 'versatility', 'vendor', 'variety', 'useless', 'ups', 'unlined', 'unexpected', 'understated', 'uncomfortably', 'unable', 'turtleneck', 'tulle', 'tshirts', 'trust', 'trips', 'trick', 'trendy', 'touching', 'touches', 'topthe', 'toplove', 'tomato', 'ti', 'throughthe', 'threading', 'thong', 'thisi', 'thesei', 'test', 'ten', 'temps', 'temperatures', 'teaching', 'target', 'tapered', 'tagless', 'synthetic', 'swingy', 'sweaty', 'swallowed', 'suggestion', 'strongly', 'stress', 'stood', 'stitches', 'sticking', 'steamed', 'steam', 'starts', 'standard', 'squat', 'spent', 'speak', 'spare', 'sliding', 'skirtthis', 'skims', 'signs', 'shorti', 'shorten', 'shirtnice', 'shimmer', 'shift', 'sherpa', 'sheen', 'shapewear', 'shades', 'sell', 'seamstress', 'sealed', 'scared', 'saved', 'saturated', 'satin', 'sand', 'salesperson', 'saggy', 'ruins', 'ruffled', 'rolling', 'ribbon', 'rib', 'replacing', 'reorder', 'reminds', 'reinforced', 'regarding', 'reception', 'rating', 'rarely', 'rare', 'qualityloved', 'qualityit', 'qualityafter', 'pumpkin', 'prone', 'private', 'pricethis', 'previously', 'prepare', 'preferred', 'preference', 'poofy', 'poncho', 'polka', 'pocketslove', 'pocketsi', 'plunging', 'pleating', 'pleated', 'playing', 'piping', 'pinned', 'picturethe', 'picks', 'pet', 'personi', 'periwinkle', 'perfume', 'perfectit', 'peasant', 'pantsthey', 'packed', 'outstanding', 'outi', 'outdoors', 'original', 'opaque', 'okthe', 'offthe', 'offered', 'nylon', 'notch', 'netting', 'neither', 'necklaces', 'moving', 'morning', 'ml', 'mistake', 'mirror', 'mexico', 'mesh', 'mens', 'meh', 'meeting', 'manner', 'madethe', 'mad', 'lump', 'loses', 'longi', 'location', 'list', 'linty', 'lilac', 'lifted', 'leopard', 'leaves', 'launders', 'laundering', 'laundered', 'lately', 'largei', 'lacking', 'known', 'knot', 'kid', 'keys', 'key', 'jeansthese', 'jacketthis', 'itso', 'itmy', 'itit’s', 'itit', 'itd', 'ish', 'initial', 'inconsistent', 'idk', 'ice', 'hunt', 'houston', 'horizontal', 'honest', 'holidays', 'hint', 'highlights', 'heel', 'heard', 'hawaii', 'hanes', 'haha', 'gym', 'grab', 'golf', 'goddess', 'giant', 'general', 'gathered', 'gapping', 'gala', 'funny', 'friendly', 'forest', 'fluke', 'flower', 'flatteringgreat', 'fitvery', 'finished', 'figures', 'fear', 'faulty', 'fastened', 'failed', 'fades', 'eyes', 'eyeing', 'extreme', 'expectedthis', 'expectedthe', 'exchanging', 'eve', 'essentially', 'entirely', 'enormous', 'enjoyed', 'em', 'earlier', 'droop', 'dries', 'dresssuper', 'dressordered', 'dressa', 'draped', 'drag', 'dollars', 'dollar', 'doll', 'distinctive', 'display', 'dislike', 'directions', 'designer', 'decades', 'dad', 'cycles', 'cuz', 'cuts', 'cutouts', 'cutout', 'cutevery', 'cutecute', 'culottes', 'creamy', 'cowboy', 'count', 'cottoni', 'cords', 'contains', 'compare', 'comment', 'comfylove', 'comfygreat', 'comfortablegreat', 'comfiest', 'colorsi', 'colorit', 'coloring', 'colorfast', 'cobalt', 'coats', 'closely', 'clinging', 'class', 'claimed', 'chinos', 'checked', 'cheapest', 'charm', 'cell', 'casualthis', 'cashmere', 'carefully', 'cardigani', 'card', 'byron', 'busts', 'bubble', 'brunch', 'bras', 'bralette', 'braless', 'boxyi', 'boob', 'boo', 'blends', 'bled', 'blanket', 'billowy', 'besides', 'benefit', 'bending', 'beautifullove', 'beading', 'bare', 'baggier', 'baggie', 'backup', 'bachelorette', 'autumn', 'authentic', 'attracted', 'attract', 'asymmetrical', 'assume', 'asking', 'ask', 'asap', 'arrives', 'army', 'appreciate', 'apparel', 'anytime', 'amazingi', 'amazed', 'alli', 'adorablethis', 'adorablei', 'admit', 'additionally', 'activities', 'acceptable', '9', '6p', '50s', '38d', '35', '32dd', '32b', '32', '2022', '180lbs', '180', '140lbs', '13', '128', '127', '123', '120lbs', '11', '0p', '😂', 'zoom', 'zipperthe', 'you’ve', 'you’d', 'yikes', 'wrinkly', 'wrinkling', 'wraps', 'wrapping', 'wrapper', 'workappropriate', 'word', 'wonky', 'womeni', 'wiggle', 'wi', 'whatsoever', 'wet', 'western', 'werent', 'wellthe', 'weighted', 'weekends', 'wedge', 'wearsi', 'wearings', 'waterproof', 'washdry', 'warning', 'warn', 'warming', 'walmart', 'waisti', 'wa', 'volume', 'visual', 'view', 'vesti', 'velcro', 'vegas', 'valuei', 'usa', 'unravels', 'uniqueness', 'underwhelmed', 'undertones', 'underlayer', 'ultra', 'ugh', 'tweed', 'tumble', 'trunks', 'trousers', 'tricky', 'treat', 'travels', 'traveling', 'transitioning', 'transitional', 'traditional', 'town', 'tournament', 'tomorrow', 'toggles', 'tissue', 'till', 'tightly', 'thrown', 'throughsuper', 'thisthis', 'thinthe', 'they’ve', 'theyd', 'thermal', 'themmy', 'thankfully', 'tendency', 'temperature', 'teenage', 'tailoring', 'tacked', 'sz', 'sweaternice', 'sweaterlike', 'survive', 'suppose', 'supportive', 'superb', 'summeri', 'suitthis', 'suits', 'suggested', 'sucks', 'subpar', 'stylethis', 'stylethe', 'stunningi', 'struggled', 'struggle', 'stronger', 'striking', 'strangest', 'strangers', 'stranger', 'strands', 'stone', 'step', 'steel', 'steamer', 'stating', 'staplethis', 'stamped', 'squished', 'squeeze', 'square', 'sporty', 'sports', 'splurged', 'splurge', 'splotchy', 'spectacular', 'sparkly', 'spank', 'sown', 'southern', 'sooner', 'sons', 'solids', 'softthis', 'softsuper', 'softit', 'soften', 'snuggly', 'smile', 'smelling', 'smalls', 'smallruns', 'smallmedium', 'slips', 'slipping', 'slightest', 'skirtthe', 'skimpy', 'sizevery', 'situation', 'significant', 'sidei', 'shrinksi', 'shouldn’t', 'shouldered', 'shortthis', 'shirtthis', 'ship', 'shin', 'shell', 'shein', 'sheet', 'sheerthe', 'shapes', 'shabby', 'serious', 'separately', 'separated', 'seldom', 'secured', 'seconds', 'secondly', 'search', 'sagging', 'sage', 'rubbed', 'rub', 'rock', 'robe', 'rigid', 'richer', 'ribbing', 'reversible', 'reveals', 'reveal', 'retired', 'retailers', 'retail', 'result', 'restrictive', 'restaurant', 'require', 'represented', 'representation', 'remember', 'remedied', 'remaining', 'related', 'refreshing', 'ref', 'reasonably', 'reality', 'reached', 'ratty', 'questions', 'questionable', 'qualitythere', 'qualityhad', 'qualitygreat', 'qualityas', 'qu', 'purpose', 'purchasethis', 'puff', 'puckers', 'proportion', 'promise', 'profile', 'products', 'prob', 'prior', 'pricethe', 'practice', 'practically', 'potentially', 'postbaby', 'pops', 'pool', 'polyurethane', 'polished', 'pointed', 'pj', 'pillingi', 'piecei', 'picturedthe', 'photosi', 'photographed', 'perspective', 'personthis', 'personthe', 'permanently', 'period', 'perfectnot', 'perfectionthis', 'perfectioni', 'peacock', 'peachy', 'parties', 'panty', 'paisleys', 'paisley', 'pairing', 'pain', 'page', 'outthe', 'outs', 'ordinary', 'orangey', 'onthe', 'oknot', 'oki', 'okayi', 'odor', 'obsessedi', 'oatmeal', 'norm', 'newer', 'nervous', 'neon', 'needing', 'nautical', 'mushroom', 'muffin', 'moved', 'monthsi', 'moneythe', 'moisturewicking', 'moisture', 'mint', 'mini', 'met', 'meetings', 'mediocre', 'max', 'matters', 'matte', 'materiallooks', 'materialdress', 'matched', 'marked', 'manufacturing', 'managed', 'maker', 'majority', 'mailbox', 'lovelythe', 'lovelove', 'loungewear', 'loud', 'loss', 'looki', 'longthe', 'lokka', 'listened', 'lingerie', 'li', 'lemon', 'leggingsthese', 'learned', 'laying', 'layed', 'lars', 'largethis', 'largethe', 'laceup', 'labeled', 'knows', 'knitting', 'kids', 'justify', 'jumped', 'jeansgreat', 'jacketlove', 'it’d', 'itvery', 'itfor', 'intense', 'instantly', 'instant', 'instagram', 'insanely', 'inferior', 'indigo', 'incase', 'inappropriate', 'improve', 'importantly', 'important', 'impeccable', 'immediatelythe', 'immediate', 'ig', 'ie', 'identical', 'hyphen', 'husbands', 'hugged', 'hue', 'hotel', 'hospital', 'highest', 'he’s', 'hemline', 'hell', 'heck', 'heavily', 'heather', 'hear', 'heading', 'havei', 'hasn’t', 'hardly', 'happening', 'hands', 'handles', 'halfway', 'h', 'guys', 'gut', 'guessing', 'growing', 'greatmy', 'grass', 'granddaughters', 'granddaughter', 'grand', 'goodvery', 'goodthreads', 'goodthe', 'glutes', 'glamorous', 'gifts', 'getaway', 'genuine', 'garments', 'games', 'function', 'friday', 'friction', 'french', 'freaking', 'forth', 'forit', 'forever', 'football', 'following', 'fo', 'flex', 'flatters', 'flatteringif', 'finishing', 'fifth', 'feelings', 'favoritei', 'fav', 'falli', 'fail', 'fabricnot', 'experienced', 'expectedi’m', 'expand', 'excessive', 'examining', 'everythingi', 'eventually', 'european', 'essential', 'esp', 'environment', 'enoughi', 'endowed', 'employees', 'emerald', 'embarrassing', 'elsewhere', 'elongating', 'eleganti', 'elderly', 'elasticity', 'effortlessly', 'effort', 'east', 'easilyi', 'earth', 'dusty', 'durablethese', 'dull', 'dropped', 'drier', 'dresswow', 'dresswas', 'dressso', 'dresss', 'dresspretty', 'dressmaterial', 'dresslots', 'dressjust', 'dressgood', 'drawstrings', 'draw', 'dragging', 'downward', 'downthis', 'downgreat', 'discovered', 'discover', 'disaster', 'disappointedmaterial', 'directly', 'dinners', 'differently', 'detaili', 'destruction', 'desired', 'delightful', 'degrees', 'definite', 'deeper', 'daytime', 'cutesuper', 'cutereally', 'cutefit', 'curve', 'crossbody', 'crewneck', 'creases', 'crease', 'crappy', 'craftsmanship', 'covid', 'covering', 'could’ve', 'cottonpolyester', 'corners', 'corner', 'coolthis', 'contour', 'continued', 'contemporary', 'contacted', 'constricting', 'confusing', 'confidence', 'conditions', 'concert', 'complimentsi', 'complicated', 'complementary', 'comparison', 'common', 'commented', 'comfyvery', 'comfybought', 'comfortthis', 'comfortablewore', 'comfortableso', 'comfortableordered', 'comfortablegood', 'colours', 'colorsthis', 'colorsthe', 'colorspatterns', 'colorlike', 'college', 'cocoon', 'cocktails', 'clings', 'cleaner', 'chubby', 'chici', 'chesty', 'chesti', 'chemical', 'cheese', 'cheerful', 'ceremony', 'celebration', 'catching', 'catches', 'catch', 'cargo', 'cardigans', 'cardiganlove', 'carbon', 'caramel', 'cape', 'camis', 'calls', 'california', 'cage', 'cable', 'buythis', 'buylove', 'but…i', 'bunchy', 'bunching', 'bulges', 'bucks', 'buckle', 'brushed', 'brothers', 'bronze', 'broader', 'brightness', 'breeze', 'breathe', 'breath', 'breastfeeding', 'breaker', 'bough', 'bot', 'boot', 'bomber', 'bomb', 'bodycon', 'blotchy', 'blew', 'bigthis', 'bigthe', 'bewarei', 'belonged', 'beautifulthe', 'beat', 'basket', 'bandeau', 'balance', 'bags', 'babydoll', 'australian', 'attire', 'attended', 'associate', 'aspect', 'aside', 'armour', 'armhole', 'arizona', 'appropriately', 'appeal', 'answer', 'anniversary', 'ample', 'alteration', 'allow', 'agreed', 'ages', 'afternoon', 'achieved', 'account', 'ac', '90', '8mo', '80s', '65', '60s', '5’10”', '5’0', '411', '38b', '36ddd', '34a', '32ddd', '32d', '32c', '30s', '30dd', '2p', '200', '1x', '175', '170lbs', '118', '02', '🥰', '😊', '😉', '😆', '😅', '💗', '💕', '👍🏻', '👌', '…', '“try', '“the', '“tent”', '“hide', '—', 'zipping', 'zipperi', 'yuck', 'york', 'yoke', 'yoga', 'yearround', 'ya', 'xtra', 'xssm', 'xls', 'xli', 'x', 'wt', 'written', 'wrinklesi', 'wrinklefree', 'wounderful', 'worni', 'workplace', 'workouts', 'worki', 'worker', 'wondering', 'wonderfuli', 'won', 'womenthe', 'woman’s', 'wld', 'wings', 'windy', 'willing', 'wil', 'wierd', 'widest', 'who’s', 'whose', 'whitethe', 'whites', 'whitecream', 'whimsy', 'whimsical', 'whenever', 'we’ll', 'wellthis', 'wellthese', 'weirdthe', 'weighti', 'weighs', 'weekly', 'weddings', 'web', 'wearvery', 'wearthe', 'wearit’s', 'wearingsi', 'wayyy', 'waves', 'watertight', 'watermelon', 'watching', 'wasting', 'washthe', 'washs', 'washas', 'warned', 'warmthe', 'warmi', 'ware', 'wantedi', 'wamp', 'walked', 'waas', 'voluminous', 'virtually', 'via', 'versatilethis', 'verry', 'ventless', 'vent', 'vendors', 'variation', 'vans', 'upthis', 'uplove', 'upi', 'unwearablei', 'unstitched', 'unsnapped', 'unnatural', 'universal', 'unhappy', 'unforgiving', 'unfold', 'unfinished', 'unexpectedly', 'underarms', 'undecided', 'unbelievably', 'unavailable', 'um', 'typethe', 'typei', 'tying', 'tx', 'twist', 'tux', 'turner', 'tunicthis', 'tunici', 'tugging', 'tucking', 'tshirtthis', 'tshirti', 'truetosize', 'trouser', 'trimmed', 'tree', 'treated', 'traveli', 'trashed', 'transparenti', 'translucent', 'towards', 'touched', 'toss', 'topif', 'topcute', 'tooi', 'tolerance', 'toddler', 'tlas', 'tip', 'tint', 'timemy', 'timei', 'til', 'tightness', 'tighti', 'tightening', 'ticket', 'throwing', 'thr', 'thoughts', 'thoughti', 'thoughi', 'thisthe', 'thislove', 'thinks', 'they’ll', 'thesethese', 'themthey', 'theme', 'textures', 'textured', 'tested', 'territory', 'tends', 'temperate', 'teh', 'teethis', 'teeny', 'teenager', 'technology', 'tax', 'tattered', 'tapers', 'tangerine', 'talking', 'table', 'switch', 'swings', 'swimsuitthis', 'sweep', 'sweatshirtthis', 'sweatshirti', 'sweaterso', 'sweaterordered', 'sweaterlight', 'sweaterit’s', 'sweaterit', 'sweatercoat', 'sweaterbeautiful', 'sweateras', 'swear', 'swallowing', 'survived', 'surprisei', 'surprisedi', 'surpassed', 'surgery', 'sundress', 'sunday', 'summertime', 'summerthis', 'suitthe', 'suiti', 'suitable', 'sufficiently', 'suede', 'successful', 'stylists', 'stylishi', 'stunningthis', 'stumbled', 'striping', 'strip', 'straighter', 'stops', 'stopped', 'stitchingthe', 'stitchingi', 'stiffer', 'stepping', 'steal', 'stats', 'states', 'state', 'starters', 'stark', 'starbucks', 'stands', 'standout', 'stairs', 'staff', 'squeezing', 'squares', 'squareapple', 'springy', 'spray', 'splotches', 'spite', 'spin', 'spill', 'specks', 'specific', 'speciali', 'spanks', 'sp', 'sorbet', 'sooooooo', 'soooooo', 'son’s', 'someday', 'solution', 'softperfect', 'softgreat', 'softgood', 'snugly', 'snatched', 'snapped', 'snagging', 'smoothly', 'smoothing', 'smallthe', 'smallreturned', 'smallit', 'smallcute', 'smallchested', 'smallbought', 'smalland', 'sloppily', 'slippery', 'slipdress', 'slides', 'slick', 'sleeved', 'sleeping', 'slack', 'skip', 'skinnys', 'skinnies', 'skater', 'sizethe', 'sizesi', 'sizeit', 'sizeim', 'sits', 'sisters', 'sincerely', 'simplicity', 'silly', 'sign', 'si', 'shrug', 'shrimp', 'shredding', 'shredded', 'shownthis', 'shout', 'shouldve', 'shots', 'shorty', 'shortsthe', 'shortsso', 'shortsmy', 'shortsleeve', 'shortit', 'shortening', 'shoddy', 'shirtthe', 'shirtlove', 'shirtdress', 'shipment', 'shine', 'sheets', 'sheeri', 'shawl', 'sharp', 'shapethis', 'shapeafter', 'shallow', 'sexythe', 'sexyi', 'severely', 'senior', 'sells', 'selling', 'selfconscious', 'selection', 'seethroughi', 'seeking', 'securely', 'seater', 'seamsi', 'seaming', 'sea', 'scrubs', 'scrub', 'screen', 'scissors', 'schedule', 'saturday', 'sandy', 'salvage', 'salmon', 'sags', 'rumpled', 'rugged', 'row', 'rotate', 'roominess', 'rolls', 'rocker', 'robbery', 'rinse', 'riding', 'reviewsi', 'reviewing', 'reviewed', 'returningthis', 'returnedthis', 'retuning', 'retro', 'resist', 'resew', 'requested', 'request', 'repeated', 'reordering', 'rendering', 'removing', 'reminiscent', 'remains', 'remained', 'remade', 'rely', 'relegated', 'relax', 'relatively', 'reinforce', 'rehearsal', 'regrettably', 'reg', 'record', 'recommendi', 'reasons', 'realistic', 'readjust', 'reaching', 'rated', 'rate', 'raspberry', 'range', 'random', 'raised', 'raise', 'rag', 'racerback', 'r', 'quit', 'quicklythe', 'question', 'quarter', 'qualm', 'qualityunfortunately', 'qualityripped', 'qualitypoor', 'qualitynot', 'qualitynice', 'qualityit’s', 'qualityits', 'qualityfirst', 'qualitydidn’t', 'qualitycheap', 'qualities', 'push', 'purchasethe', 'purchasers', 'puppy', 'puffer', 'puffed', 'pudge', 'puckering', 'puckered', 'prove', 'proportioned', 'proper', 'prompted', 'productgreat', 'priority', 'princess', 'primarily', 'pricethey', 'prices', 'pricenot', 'prewashed', 'prettyvery', 'prettythe', 'prettyit', 'prettiest', 'pressed', 'presentation', 'preschool', 'pregnanti’m', 'pre', 'powder', 'poured', 'potato', 'posted', 'possibilities', 'positively', 'portrayed', 'popsicles', 'poofs', 'poof', 'polo', 'policy', 'poket', 'pocketsvery', 'pocketsthis', 'pocketsmy', 'pocketsits', 'pocketive', 'pm', 'plush', 'pleat', 'player', 'play', 'platform', 'plasticy', 'planned', 'placket', 'pl', 'pipe', 'pink”', 'pinkish', 'pinch', 'piling', 'pile', 'pilcros', 'piecethis', 'picturei', 'picturedthis', 'physical', 'phones', 'petitei', 'peter', 'pernette', 'perfectvery', 'perfectthe', 'perfectsuper', 'perfectperfect', 'perfectmy', 'perfectlythis', 'perfectlythe', 'perfectloved', 'peoplethe', 'peeve', 'peekaboo', 'pearshaped', 'pearl', 'pe', 'paying', 'patter', 'patched', 'patch', 'park', 'par', 'pantsthe', 'pantsgreat', 'pan', 'palette', 'pad', 'packing', 'packaged', 'ownthis', 'owning', 'overwhelmed', 'oversizedthe', 'overnight', 'overlooked', 'overlook', 'overlap', 'overalli', 'outrageously', 'outlined', 'outline', 'outing', 'outfiti', 'othe', 'ot', 'ordere', 'opens', 'onepiece', 'onenot', 'okaythe', 'okayits', 'off…', 'offsize', 'occasioni', 'occasionally', 'occasional', 'nyc', 'numerous', 'nub', 'nose', 'nonot', 'non', 'nike', 'nighti', 'nicevery', 'nicethis', 'nicethe', 'nicelyi', 'nicehappy', 'nicegreat', 'nicecomfortable', 'net', 'nephew', 'necklinei', 'navywhite', 'naturally', 'nasty', 'narrower', 'named', 'myselfi', 'multipurpose', 'muddy', 'moves', 'morei', 'mood', 'moo', 'monthsthese', 'monthbought', 'moneyyyy', 'molerani', 'modelthis', 'modcloth', 'modal', 'mockneck', 'mob', 'mistaken', 'mislabeled', 'minus', 'minor', 'miniature', 'midweight', 'midway', 'midshin', 'midriff', 'midcalf', 'mewell', 'metallicthis', 'metal', 'messed', 'menot', 'menice', 'meets', 'mediums', 'measures', 'measured', 'maternityish', 'materialsi', 'materiallove', 'materialit', 'materialdidnt', 'materialbought', 'matchy', 'marshmallows', 'marshmallow', 'march', 'manufacturers', 'mango', 'manette', 'manages', 'manageable', 'makeup', 'maintains', 'madewell', 'madethis', 'madeno', 'madebought', 'madeafter', 'macys', 'machinery', 'lt', 'low…', 'lowquality', 'lovethese', 'lovethe', 'loveso', 'lovelyi', 'loveim', 'lovegreat', 'loosethe', 'loosest', 'lookingthis', 'longtoo', 'longthis', 'longsleeved', 'longits', 'longevity', 'logo', 'located', 'llama', 'living', 'lives', 'listing', 'listen', 'linei', 'lin', 'limp', 'lighting', 'levi', 'letting', 'lengths', 'lends', 'legit', 'leggingsi', 'leaner', 'leaf', 'leads', 'lead', 'lbd', 'law', 'launder', 'lasts', 'lastly', 'lasti', 'largeri', 'largebought', 'lapels', 'lacy', 'lacked', 'labels', 'kinds', 'kimonos', 'kick', 'khakis', 'junk', 'june', 'jumpsuits', 'jumper', 'july', 'jsut', 'jogging', 'jogger', 'jeansnice', 'jeansmy', 'jagged', 'jade', 'jacketthe', 'jacketim', 'j', 'itwell', 'itthey', 'itreally', 'itnice', 'itlooks', 'itjust', 'iti’m', 'itgreat', 'itemthese', 'itcomfortable', 'itchiness', 'itcan', 'italy', 'it5', 'it39s', 'isthe', 'issuesthis', 'issuesi', 'intricate', 'interior', 'interestingly', 'intent', 'intact', 'instruction', 'inspect', 'insecure', 'info', 'infinity', 'indicates', 'indicated', 'indecent', 'incorrectly', 'incorporate', 'inconsistenti', 'included', 'inbetween', 'impulse', 'improvement', 'impression', 'immediatelyi', 'hungry', 'hundred', 'human', 'hugethis', 'hoxton', 'howeveri', 'housei', 'hotter', 'horseshoe', 'horrified', 'horriblyi', 'horrendous', 'hooks', 'holder', 'hippy', 'hiking', 'highwaisted', 'highquality', 'highlight', 'hiding', 'hesitation', 'hence', 'hems', 'hemming', 'helpful', 'hefty', 'heavyi', 'heartbroken', 'heart', 'heads', 'headed', 'hd', 'haul', 'hat', 'hassle', 'harder', 'happyi', 'happens', 'happenedi', 'handwash', 'handsome', 'hadn’t', 'gum', 'grumpy', 'growth', 'groom', 'grocery', 'greyblue', 'greenthis', 'greek', 'greatthe', 'greatnot', 'greatmaterial', 'greatloved', 'greatlove', 'greatcame', 'gravity', 'grate', 'graphic', 'grandmothers', 'grandma', 'gracefully', 'gorgeousyou', 'goodwill', 'gooda', 'glass', 'gladly', 'gently', 'generously', 'ge', 'gauzy', 'gauge', 'gathers', 'gatherings', 'gather', 'garden', 'gape', 'gain', 'fuzzies', 'fussing', 'fuss', 'funi', 'functionality', 'frumpythis', 'frumpyi', 'fronti', 'frequently', 'frankly', 'fraction', 'fortunately', 'fornot', 'forming', 'forget', 'fond', 'follow', 'foldover', 'folded', 'flying', 'flowiness', 'flowery', 'flouncy', 'floppy', 'flop', 'flimsyi', 'flights', 'flexibility', 'flecked', 'flatteringjust', 'flatteringit', 'flatteringgot', 'flatteringdress', 'flattered', 'flattens', 'flab', 'fitwore', 'fitweird', 'fittingi', 'fitthese', 'fitnice', 'fitloved', 'fitlike', 'fitjust', 'fitdress', 'fitcolor', 'fisherman', 'fingers', 'figuring', 'festival', 'fest', 'femininity', 'femininepretty', 'femininei', 'felted', 'feed', 'favoritethis', 'fave', 'father', 'faster', 'fasteners', 'fani', 'fancier', 'fallthis', 'fallaparty', 'factory', 'facing', 'face', 'fabricreturned', 'fabricpoor', 'fabricjust', 'fabricgood', 'fabrica', 'eyecatching', 'extralarge', 'express', 'exposure', 'exposing', 'expose', 'explain', 'experiences', 'expectednice', 'expectedit', 'expectationsthis', 'executed', 'exceptionally', 'example', 'everytime', 'everythinglove', 'everybody', 'everthis', 'error', 'equals', 'equally', 'eptite', 'envelope', 'enter', 'ensure', 'enjoying', 'enhances', 'enhance', 'england', 'endless', 'embossed', 'embarrassed', 'elongated', 'element', 'eira', 'eh', 'edging', 'edginess', 'ecru', 'easywear', 'easilythis', 'easilythe', 'eagerly', 'e', 'dyed', 'dust', 'durablewe’ve', 'dupegreat', 'dual', 'drove', 'drops', 'droopy', 'drip', 'dressyi', 'dresswore', 'dresstrue', 'dressnot', 'dressmy', 'dressits', 'dressfit', 'dressesi', 'dresseasy', 'dressabsolutely', 'dreamy', 'drawback', 'drastically', 'dramatic', 'downvery', 'downlove', 'doubting', 'doublelayered', 'dolman', 'dogs', 'divine', 'distribution', 'distressing', 'distracting', 'dissatisfied', 'dissapointedi', 'dissapointed', 'disney', 'disintegrating', 'disintegrated', 'disapointed', 'disabled', 'dirt', 'dingy', 'dindt', 'dim', 'digs', 'differences', 'diff', 'developing', 'develop', 'determine', 'destroyed', 'descent', 'depth', 'depicted', 'deodorant', 'dense', 'delighted', 'delicately', 'delicatei', 'definition', 'definetly', 'defectivei', 'defeats', 'default', 'deeply', 'deciding', 'decently', 'deceiving', 'decade', 'debated', 'death', 'ddd', 'daythis', 'daysthis', 'daysi', 'daughter’s', 'dare', 'damagedi', 'da', 'cutmy', 'cutewore', 'cutethese', 'cuteflattering', 'cutefits', 'cutea', 'customers', 'cus', 'curvey', 'curls', 'curious', 'cuffed', 'crushed', 'crowd', 'crouch', 'crossing', 'crossed', 'cross', 'crops', 'crooked', 'critique', 'crepe', 'credit', 'cozylove', 'country', 'coralpeach', 'coppery', 'cools', 'cooli', 'convinced', 'convenient', 'contours', 'content', 'contact', 'consistent', 'consistency', 'confortable', 'conform', 'conditioning', 'condensation', 'conceal', 'computer', 'complimentsgreat', 'complimentary', 'complexion', 'complained', 'compelled', 'comparable', 'companion', 'companies', 'comfysuper', 'comfyso', 'comfyit', 'comfortablewashes', 'comfortablenice', 'comfortablemy', 'comfortableloved', 'comfortableive', 'comfortablefits', 'comfortableextremely', 'combines', 'combinations', 'colorgreat', 'colorcolor', 'colorcasual', 'collected', 'coffee', 'coati', 'coarse', 'clung', 'clue', 'clothesi', 'closures', 'clipdot', 'clearance', 'classygreat', 'classier', 'clasp', 'claim', 'circle', 'cinches', 'chores', 'choking', 'childishi', 'child', 'chicthis', 'cheery', 'cheeks', 'cheapthis', 'cheapthe', 'cheaplooks', 'cheapcheap', 'chartreuse', 'charged', 'character', 'changing', 'changes', 'challenging', 'challenge', 'centered', 'cent', 'cellulite', 'caveat', 'cautious', 'category', 'cat', 'cart', 'carried', 'carhartt', 'carefree', 'capris', 'camouflaged', 'cal', 'ca', 'buysuper', 'buyers', 'but…the', 'buttonsthis', 'buttonsthe', 'buttondown', 'buttocks', 'butter', 'butnice', 'butabsolutely', 'bustyi', 'bustier', 'bur', 'building', 'budge', 'buckles', 'brownish', 'brother', 'brokethe', 'brokeni', 'bringing', 'brick', 'breathes', 'breaks', 'bralettes', 'brafriendly', 'boy', 'boxiness', 'boxier', 'boutique', 'boucle', 'bothered', 'borrowed', 'bordeaux', 'boost', 'boobies', 'bone', 'bold', 'bod', 'board', 'bluei', 'blows', 'blouson', 'blouselove', 'blood', 'block', 'blah', 'blackwhite', 'bizarre', 'bingo', 'bin', 'bikini', 'biker', 'bigit', 'bigcute', 'bicycle', 'bethis', 'bent', 'belts', 'belted', 'bei', 'begun', 'begin', 'beautifulloved', 'beautifulit', 'beautifulbuy', 'beautifula', 'bear', 'beads', 'batwing', 'bathrobe', 'batch', 'barefoot', 'bar', 'baptism', 'balances', 'bagnot', 'bagging', 'bagginess', 'badi', 'backthis', 'backi', 'awhile', 'awesomei', 'awaiting', 'awaited', 'attracts', 'attracting', 'attitude', 'attending', 'attempting', 'atleast', 'assuming', 'asian', 'artists', 'art', 'armor', 'aren’t', 'aqua', 'apron', 'approx', 'approveddress', 'approved', 'apartthis', 'apartthese', 'anxious', 'antro', 'anticipating', 'angle', 'altering', 'allthis', 'allowed', 'alllll', 'albeit', 'al', 'ak', 'againvery', 'againthis', 'afterwards', 'affair', 'aesthetic', 'advise', 'advice', 'advertisement', 'adopted', 'adjustment', 'adjustability', 'active', 'accurately', 'accordingly', 'accept', 'accentuated', 'accents', 'abuse', 'absorbed', 'abs', 'ability', 'abd', '90s', '80', '6ft', '64', '6040', '60', '5’9', '5star', '55130lbs', '505s', '4”', '4’11”', '4ft', '3”', '38f', '38ddd', '3550', '34g', '34f', '34ddd', '34d2735', '34cd', '33', '300', '2xl', '250', '220', '22', '215', '210', '200lbs', '1950s', '190', '185lb', '180lb', '178lbs', '170', '163lbs', '162', '1618', '160lbs', '160lb', '155lbs', '155160', '154', '14th', '142', '130lbs', '130lb', '12”', '124', '113lbs', '113', '10x', '108', '107', '102', '🥲', '🥰❤️', '🤷🏾\\u200d♀️', '🤬🤬🤬😡😡', '🤩so', '🤩', '🤣', '🤢🤮', '🤗the', '🙌🏼', '🙈', '🙄', '😳', '😭‼️', '😭', '😥i', '😢', '😡😡', '😡though', '😡', '😜', '😕', '😒', '😍👏', '😊i’m', '😊in', '😁😁😁love', '😁hi', '🗣🗣pockets', '💞💞💞dress', '💖💯💖💯💖💯', '💖love', '💖', '👍🏽can', '👍no', '👍i’m', '👍bought', '👍', '🍒', '🌟', '❤️❤️❤️dress', '❤️❤️true', '❤️❤️', '❣', '♥️comfy', '…love', '…looks', '…i’m', '…it', '“you', '“worked”', '“upscale”', '“true', '“too', '“throw', '“take', '“slouchy”', '“show”', '“sexy”', '“real', '“pure', '“preshrunk”it’s', '“pilling', '“pending', '“out”', '“new”', '“maxi”', '“maternitylike”', '“malfunctions”…', '“i', '“good”', '“go', '“funeral', '“fluffy”', '“flattering”', '“fake”', '“dark', '“cutie”', '“closed”', '“clinging”', '“camo', '“amazon', '—smh', '—pocket', 'Ã£Â¼ber', 'zone', 'zipup', 'zipthe', 'zipsee', 'zipperwhat', 'zipperthis', 'zippersthe', 'zippersother', 'zippernot', 'zipperlove', 'zipperfirst', 'zipperbeautiful', 'zippedfor', 'zara', 'y’all', 'yup', 'yuckawful', 'yrs', 'yr', 'youve', 'youtube', 'youthful', 'yours', 'youlike', 'youi', 'yoo', 'yogurt', 'yogapantwaistband', 'yoga56', 'ykk', 'yes…like', 'yesthis', 'yesim', 'yesi', 'yesgreat', 'yelowpants', 'yellowpoor', 'yelloworange', 'yellowitchy', 'yellowish', 'yellowgoldorange', 'yelling', 'yea…', 'yearthis', 'yearswonderful', 'yearsnot', 'yearold', 'yearhole', 'yeah', 'yarns', 'yardgreat', 'yall', 'xxxxxx', 'xxsmall', 'xxlarge', 'xs…', 'xspetite', 'xsmallsmall', 'xmas', 'xlsize', 'xlarge', 'wye', 'wwear', 'wtf', 'wry', 'wroteruined', 'wrists', 'wrinklythese', 'wrinkleswork', 'wrinklesstretches', 'wrinklessoft', 'wrinklesdog', 'wrinkleproof', 'wrinkledim', 'wringles', 'wrin', 'wrikling', 'wrangle', 'wowzai', 'wowza', 'wowwow', 'wowneeded', 'wowim', 'wowamazing', 'wouldwill', 'wou', 'worthy', 'worsti', 'worsened', 'worrisome', 'wornwashed', 'wornput', 'wornpoor', 'worlds', 'work…too', 'workshirtsthese', 'workshirts', 'workmanshipthis', 'workmanshipbought', 'worki’d', 'workit', 'workhorse', 'workgreat', 'workfits', 'workday', 'workas', 'wordvery', 'woolquoti', 'woollike', 'wons', 'wonderfulthis', 'wonderfullove', 'womenthis', 'womennot', 'womeni’m', 'womans', 'womani', 'woah', 'wo', 'wks', 'witnessed', 'witness', 'withstand', 'witch', 'wispy', 'wishful', 'wishesvery', 'wiser', 'wisconsin', 'wires', 'wire', 'wipeout', 'wipe', 'winthis', 'winterthis', 'winterthese', 'winterspring', 'winterlove', 'winnerwhat', 'winnervery', 'winnernice', 'winery', 'windrain', 'winding', 'windbreaker', 'widestretches', 'widened', 'widen', 'widelegged', 'widel', 'widei', 'widearmholes', 'wicks', 'wicking', 'wick', 'wich', 'whythis', 'whove', 'whos', 'whoopsso', 'whomever', 'wholes', 'white”they', 'whiteyellow', 'whitewhite', 'whitemy', 'whitelove', 'whitelightly', 'whitei', 'whitefabric', 'whitedress', 'whitedirty', 'whiteblue', 'whit', 'whiskering', 'whileit', 'whetherhow', 'wherever', 'whered', 'whereas', 'whe', 'what…these', 'what’s', 'whats', 'wh', 'wgt', 'we’re', 'weve', 'wetting', 'wethot', 'wether', 'weren’t', 'welp', 'well…very', 'wellworn', 'wellthere', 'wellthank']\n"
          ]
        }
      ],
      "source": [
        "voc_size = 5000 # because my dataset consists 5412 reviews\n",
        "tokenizer = tf.keras.layers.TextVectorization(max_tokens=voc_size, output_sequence_length=70) # output_sequence_length it's over 75th percentile\n",
        "\n",
        "tokenizer.adapt(text) #let's create a vocabulary\n",
        "vocabulary = tokenizer.get_vocabulary()\n",
        "\n",
        "print(vocabulary)"
      ]
    },
    {
      "cell_type": "markdown",
      "metadata": {
        "id": "eVniE4vJdwSc"
      },
      "source": [
        "**Splitting for train and test datasets**"
      ]
    },
    {
      "cell_type": "code",
      "execution_count": null,
      "metadata": {
        "id": "RYt5cbwCzlX7"
      },
      "outputs": [],
      "source": [
        "X = tokenizer(text).numpy()\n",
        "Y = labels"
      ]
    },
    {
      "cell_type": "code",
      "execution_count": null,
      "metadata": {
        "id": "DhnPjyoFeJAw"
      },
      "outputs": [],
      "source": [
        "X_train, X_test, Y_train, Y_test = train_test_split(X, Y, test_size=0.1, stratify = Y, shuffle=True)"
      ]
    },
    {
      "cell_type": "markdown",
      "source": [
        "Using stratify and shuffle ensures that the training and test sets are both representative of the overall dataset and is crucial for model evaluation. Stratification maintains class balance, while shuffling eliminates sequence bias. Together, they enhance the reliability of machine learning results.\n",
        "\n",
        "I chose test_size=0.1 to ensure that the model has a substantial amount of data to learn from."
      ],
      "metadata": {
        "id": "rntV4Jn6g4O1"
      }
    },
    {
      "cell_type": "markdown",
      "metadata": {
        "id": "CG1SQOk8wTjD"
      },
      "source": [
        "# The process of training"
      ]
    },
    {
      "cell_type": "markdown",
      "metadata": {
        "id": "cVv0qrHfweN9"
      },
      "source": [
        "**Recurrent Unit**"
      ]
    },
    {
      "cell_type": "code",
      "execution_count": null,
      "metadata": {
        "id": "q7xuPaZC1Q0B"
      },
      "outputs": [],
      "source": [
        "class Rec_Unit(tf.keras.Model):\n",
        "    '''\n",
        "    Embedding arguments (args):\n",
        "    input_dim: <int> (Size of the vocabulary)\n",
        "    output_dim: <int> (Dimension of the dense embedding)\n",
        "    '''\n",
        "    def __init__(self, num_classes, units, args, Utype):\n",
        "        super().__init__()\n",
        "        rec_type = {'RNN': tf.keras.layers.SimpleRNN,\n",
        "                    'LSTM': tf.keras.layers.LSTM,\n",
        "                    'GRU': tf.keras.layers.GRU}\n",
        "        # embeddings\n",
        "        self.embedding_layer = tf.keras.layers.Embedding(**args, name='input_layer')\n",
        "        self.hidden_layer = rec_type[Utype](units=units, activation=tf.nn.tanh, return_sequences=True, name='recurrent_layer')\n",
        "        self.pool_layer = tf.keras.layers.GlobalMaxPool1D(name='pool_layer')\n",
        "        self.dense_layer = tf.keras.layers.Dense(units=50, activation=tf.nn.relu, name='dense_layer')\n",
        "        # classifier\n",
        "        self.output_layer = tf.keras.layers.Dense(units=num_classes, activation=tf.nn.sigmoid, name='output_layer')\n",
        "\n",
        "    def call(self, inputs):\n",
        "        x = self.embedding_layer(inputs)\n",
        "        x = self.hidden_layer(x)\n",
        "        x = self.pool_layer(x)\n",
        "        x = self.dense_layer(x)\n",
        "        return self.output_layer(x)"
      ]
    },
    {
      "cell_type": "markdown",
      "metadata": {
        "id": "K_Na0NqB1rz-"
      },
      "source": [
        "**Recurrent Neural Network**"
      ]
    },
    {
      "cell_type": "code",
      "execution_count": null,
      "metadata": {
        "id": "L6TRp0621sZ5"
      },
      "outputs": [],
      "source": [
        "class Recurrent_Model:\n",
        "    def __init__(self, X, Y, units=2, Utype='RNN', args={'input_dim':100, 'output_dim':4}):\n",
        "        self.X = X\n",
        "        self.Y = Y\n",
        "        self.model = Rec_Unit(Y.shape[1], units, args, Utype)\n",
        "\n",
        "    # train the model\n",
        "    def train(self, LR, epochs, batch_size=32, verbose=0, validation_split=None):\n",
        "        self.model.compile(optimizer=tf.keras.optimizers.Adam(learning_rate=LR),\n",
        "                           loss=tf.keras.losses.BinaryCrossentropy(),\n",
        "                           metrics=['accuracy'])\n",
        "        self.loss_acc = self.model.fit(self.X, self.Y, epochs=epochs, batch_size=batch_size, verbose=verbose, validation_split=validation_split)\n",
        "\n",
        "    # plot loss and accuracy history\n",
        "    def plot_loss_accuracy(self):\n",
        "        fig = plt.figure(figsize=(8, 4))\n",
        "        fig.suptitle('Log Loss and Accuracy over Epochs')\n",
        "        labels = ['Training', 'Validation']\n",
        "\n",
        "        # get training history to plot\n",
        "        loss = self.loss_acc.history.get('loss')\n",
        "        val_loss = self.loss_acc.history.get('val_loss')\n",
        "        accuracy = self.loss_acc.history.get('accuracy')\n",
        "        val_accuracy = self.loss_acc.history.get('val_accuracy')\n",
        "\n",
        "        # add_subplot(nrows, ncolumns, index)\n",
        "        ax = fig.add_subplot(1, 2, 1)\n",
        "        ax.plot(loss, label=labels[0])\n",
        "        if val_loss:\n",
        "            ax.plot(val_loss, label=labels[1])\n",
        "        ax.grid(True)\n",
        "        ax.set(xlabel='Epochs', title='Log Loss')\n",
        "        ax.legend(loc='upper right')\n",
        "\n",
        "        ax = fig.add_subplot(1, 2, 2)\n",
        "        ax.plot(accuracy, label=labels[0])\n",
        "        if val_accuracy:\n",
        "            ax.plot(val_accuracy, label=labels[1])\n",
        "        ax.grid(True)\n",
        "        ax.set(xlabel='Epochs', title='Accuracy')\n",
        "        ax.legend(loc='lower right')"
      ]
    },
    {
      "cell_type": "markdown",
      "metadata": {
        "id": "bobkbbRg3Qc7"
      },
      "source": [
        "**Defining and training a model**"
      ]
    },
    {
      "cell_type": "markdown",
      "source": [
        "Performing hyperparameter tuning to find the best architecture and parameters. This includes experimenting with different numbers of layers, units, learning rates batch sizes, and types of recurrent neural networks."
      ],
      "metadata": {
        "id": "a1yw-oI1Ncl_"
      }
    },
    {
      "cell_type": "code",
      "source": [
        "param_grid = {\n",
        "    'units': [32, 64, 128],\n",
        "    'Utype': ['RNN', 'LSTM', 'GRU'],\n",
        "    'LR': [0.001, 0.01, 0.05],\n",
        "    'batch_size': [64, 128, 256],\n",
        "    'epochs': [2, 5, 10],\n",
        "    'input': [5000, 7000, 10000],\n",
        "    'output': [128, 256, 512]\n",
        "}\n",
        "\n",
        "best_score = 0\n",
        "best_params = None\n",
        "\n",
        "for params in ParameterGrid(param_grid):\n",
        "    print(f\"Testing parameters: {params}\")\n",
        "    rec = Recurrent_Model(X=X_train, Y=Y_train, units=32, Utype=params['Utype'],\n",
        "                            args={'input_dim': params['input'], 'output_dim': params['output']})\n",
        "    history = rec.train(LR=params['LR'], epochs=params['epochs'], batch_size=params['batch_size'])\n",
        "    score = rec.model.evaluate(X_test, Y_test, verbose=0)[1]\n",
        "    if score > best_score:\n",
        "        best_score = score\n",
        "        best_params = params\n",
        "\n",
        "print(f\"Best score: {best_score}\")\n",
        "print(f\"Best parameters: {best_params}\")"
      ],
      "metadata": {
        "colab": {
          "base_uri": "https://localhost:8080/"
        },
        "id": "Wo-Lmls0Kx6M",
        "outputId": "7f788dfc-cdc6-4671-f475-bc733b631ac8"
      },
      "execution_count": null,
      "outputs": [
        {
          "output_type": "stream",
          "name": "stdout",
          "text": [
            "Testing parameters: {'LR': 0.01, 'Utype': 'LSTM', 'batch_size': 256, 'epochs': 2, 'input': 7000, 'output': 256, 'units': 64}\n",
            "Best score: 0.48708486557006836\n",
            "Best parameters: {'LR': 0.01, 'Utype': 'LSTM', 'batch_size': 256, 'epochs': 2, 'input': 7000, 'output': 256, 'units': 64}\n"
          ]
        }
      ]
    },
    {
      "cell_type": "code",
      "execution_count": null,
      "metadata": {
        "colab": {
          "base_uri": "https://localhost:8080/"
        },
        "id": "iDf2yk1C3T8I",
        "outputId": "8500ecd3-8ddd-46bf-fa98-a3329c60a1e9"
      },
      "outputs": [
        {
          "output_type": "stream",
          "name": "stdout",
          "text": [
            "Model: \"rec__unit_66\"\n",
            "_________________________________________________________________\n",
            " Layer (type)                Output Shape              Param #   \n",
            "=================================================================\n",
            " input_layer (Embedding)     multiple                  1792000   \n",
            "                                                                 \n",
            " recurrent_layer (LSTM)      multiple                  82176     \n",
            "                                                                 \n",
            " pool_layer (GlobalMaxPooli  multiple                  0         \n",
            " ng1D)                                                           \n",
            "                                                                 \n",
            " dense_layer (Dense)         multiple                  3250      \n",
            "                                                                 \n",
            " output_layer (Dense)        multiple                  255       \n",
            "                                                                 \n",
            "=================================================================\n",
            "Total params: 1877681 (7.16 MB)\n",
            "Trainable params: 1877681 (7.16 MB)\n",
            "Non-trainable params: 0 (0.00 Byte)\n",
            "_________________________________________________________________\n"
          ]
        }
      ],
      "source": [
        "rec = Recurrent_Model(X=X_train, Y=Y_train, units=64, Utype='LSTM',\n",
        "                      args={'input_dim':7000, 'output_dim':256})\n",
        "\n",
        "rec.model.build(input_shape=X_train.shape)\n",
        "rec.model.summary()"
      ]
    },
    {
      "cell_type": "code",
      "execution_count": null,
      "metadata": {
        "colab": {
          "base_uri": "https://localhost:8080/"
        },
        "id": "wpyMXloL3s3d",
        "outputId": "bebcd8e2-aaa9-499f-9435-4410fbbb818c"
      },
      "outputs": [
        {
          "output_type": "stream",
          "name": "stdout",
          "text": [
            "Epoch 1/2\n",
            "16/16 [==============================] - 11s 386ms/step - loss: 0.5470 - accuracy: 0.3806 - val_loss: 0.4199 - val_accuracy: 0.5041\n",
            "Epoch 2/2\n",
            "16/16 [==============================] - 7s 466ms/step - loss: 0.3378 - accuracy: 0.5046 - val_loss: 0.3216 - val_accuracy: 0.5246\n"
          ]
        }
      ],
      "source": [
        "lr = 0.01\n",
        "epochs = 2\n",
        "batch_size = 256\n",
        "\n",
        "rec.train(LR=lr, epochs=epochs, batch_size=batch_size, verbose=1, validation_split=0.2)"
      ]
    },
    {
      "cell_type": "code",
      "execution_count": null,
      "metadata": {
        "colab": {
          "base_uri": "https://localhost:8080/",
          "height": 428
        },
        "id": "V2ss630M4BBX",
        "outputId": "eb8738cb-5cba-4e51-f503-ea3e2b200327"
      },
      "outputs": [
        {
          "output_type": "display_data",
          "data": {
            "text/plain": [
              "<Figure size 800x400 with 2 Axes>"
            ],
            "image/png": "[encoded data removed]"
          },
          "metadata": {}
        }
      ],
      "source": [
        "rec.plot_loss_accuracy()"
      ]
    },
    {
      "cell_type": "markdown",
      "source": [
        "The dataset was split into 90% for training and 10% for testing, using stratified sampling to maintain the proportion of labels in both sets.\n",
        "\n",
        "A recurrent neural network model(RNN) was used for this task. It allows for flexibility in choosing the type of recurrent unit (e.g., plain RNN, LSTM, GRU). There are five layers (embedding, hidden, pool, dense and output) with different activation functions (like tanh, relu and sigmoid). An embedding layer was used with a vocabulary size of 7 000 and an embedding dimension of 256.\n",
        "\n",
        "A grid search was conducted to identify the optimal hyperparameters. The final model was trained with a learning rate of 0.01, a batch size of 256, Utype of LSTM and 64 units. The model was trained for 2 epochs using the Adam optimizer and binary cross-entropy loss function, appropriate for multi-label classification."
      ],
      "metadata": {
        "id": "kHMsgkJLQ9mq"
      }
    },
    {
      "cell_type": "markdown",
      "metadata": {
        "id": "oEvA4IbawV-5"
      },
      "source": [
        "# The final results"
      ]
    },
    {
      "cell_type": "markdown",
      "metadata": {
        "id": "Qp3k0qcPwer-"
      },
      "source": [
        "**Accuracy for multilabel classification**"
      ]
    },
    {
      "cell_type": "markdown",
      "metadata": {
        "id": "3j6rRFse519J"
      },
      "source": [
        "I need to create a function to compute the accuracy, because evaluate function doesn't show what is wanted in a multilabel classification."
      ]
    },
    {
      "cell_type": "code",
      "source": [
        "def acc(c,t):\n",
        "    if t == 0:\n",
        "        return 0.0\n",
        "    else:\n",
        "        return np.round((c/t)*100, decimals=1)"
      ],
      "metadata": {
        "id": "1BRMwVSQocnJ"
      },
      "execution_count": null,
      "outputs": []
    },
    {
      "cell_type": "code",
      "source": [
        "def multilabel_accuracy(answer, prediction):\n",
        "    N = len(answer)\n",
        "    correct = 0\n",
        "    for i in range(N):\n",
        "        if all(answer[i] == np.round(prediction[i])):\n",
        "            correct += 1\n",
        "\n",
        "    return correct/N"
      ],
      "metadata": {
        "id": "zrUT1AooodbT"
      },
      "execution_count": null,
      "outputs": []
    },
    {
      "cell_type": "code",
      "execution_count": null,
      "metadata": {
        "id": "HfPWqI845GnB"
      },
      "outputs": [],
      "source": [
        "prediction = rec.model.predict(X_test, verbose=0) # computed predictions"
      ]
    },
    {
      "cell_type": "code",
      "execution_count": null,
      "metadata": {
        "id": "2O01oSgD6fvN",
        "colab": {
          "base_uri": "https://localhost:8080/"
        },
        "outputId": "8436088f-3357-457c-d190-e94eafc3c5aa"
      },
      "outputs": [
        {
          "output_type": "execute_result",
          "data": {
            "text/plain": [
              "0.5313653136531366"
            ]
          },
          "metadata": {},
          "execution_count": 70
        }
      ],
      "source": [
        "multilabel_accuracy(Y_test, prediction) # computed accuracy for multilabel classification"
      ]
    },
    {
      "cell_type": "markdown",
      "source": [
        "**Average performance**"
      ],
      "metadata": {
        "id": "c24HNPcVRFes"
      }
    },
    {
      "cell_type": "code",
      "source": [
        "def average_performance(runs=5, test=0.1):\n",
        "     lr = 0.01\n",
        "     epochs = 2\n",
        "     batch_size = 256\n",
        "\n",
        "     models = []\n",
        "     best = 0\n",
        "     for _ in range(runs):\n",
        "         X_train, X_test, Y_train, Y_test = train_test_split(X, Y, test_size=test, stratify=Y, shuffle=True)\n",
        "\n",
        "         rec = Recurrent_Model(X=X_train, Y=Y_train, units=64, Utype='LSTM',\n",
        "                      args={'input_dim':7000, 'output_dim':256})\n",
        "         rec.train(LR=lr, epochs=epochs, batch_size=batch_size, verbose=1, validation_split=0.2)\n",
        "\n",
        "         prediction = rec.model.predict(X_test, verbose=0)\n",
        "         accuracy = multilabel_accuracy(Y_test, prediction)\n",
        "         models.append(accuracy)\n",
        "         if accuracy > best:\n",
        "            best = accuracy\n",
        "\n",
        "     average_accuracy = np.mean(models)\n",
        "     sd = np.std(models)\n",
        "     return (f\"Average accuracy = {average_accuracy}\"), (f\"Standard deviation = {sd}\"), (f\"Best accuracy = {best}\")"
      ],
      "metadata": {
        "id": "CutlFVntRSCL"
      },
      "execution_count": null,
      "outputs": []
    },
    {
      "cell_type": "code",
      "source": [
        "average_performance(runs=10)"
      ],
      "metadata": {
        "colab": {
          "base_uri": "https://localhost:8080/"
        },
        "id": "nsWzp4vRUhyB",
        "outputId": "2101b5b3-7bfb-43ee-a8c1-d82c95118179"
      },
      "execution_count": null,
      "outputs": [
        {
          "output_type": "stream",
          "name": "stdout",
          "text": [
            "Epoch 1/2\n",
            "16/16 [==============================] - 11s 501ms/step - loss: 0.5871 - accuracy: 0.3445 - val_loss: 0.5140 - val_accuracy: 0.3809\n",
            "Epoch 2/2\n",
            "16/16 [==============================] - 6s 374ms/step - loss: 0.4020 - accuracy: 0.5062 - val_loss: 0.3071 - val_accuracy: 0.5606\n",
            "Epoch 1/2\n",
            "16/16 [==============================] - 12s 476ms/step - loss: 0.5721 - accuracy: 0.4032 - val_loss: 0.5054 - val_accuracy: 0.4487\n",
            "Epoch 2/2\n",
            "16/16 [==============================] - 8s 514ms/step - loss: 0.4260 - accuracy: 0.5128 - val_loss: 0.3614 - val_accuracy: 0.5092\n",
            "Epoch 1/2\n",
            "16/16 [==============================] - 13s 677ms/step - loss: 0.5635 - accuracy: 0.3747 - val_loss: 0.4477 - val_accuracy: 0.4589\n",
            "Epoch 2/2\n",
            "16/16 [==============================] - 6s 368ms/step - loss: 0.3481 - accuracy: 0.5259 - val_loss: 0.3272 - val_accuracy: 0.6232\n",
            "Epoch 1/2\n",
            "16/16 [==============================] - 11s 442ms/step - loss: 0.5745 - accuracy: 0.4068 - val_loss: 0.5143 - val_accuracy: 0.4969\n",
            "Epoch 2/2\n",
            "16/16 [==============================] - 7s 469ms/step - loss: 0.3953 - accuracy: 0.5816 - val_loss: 0.3545 - val_accuracy: 0.5595\n",
            "Epoch 1/2\n",
            "16/16 [==============================] - 11s 515ms/step - loss: 0.5770 - accuracy: 0.3676 - val_loss: 0.4784 - val_accuracy: 0.5308\n",
            "Epoch 2/2\n",
            "16/16 [==============================] - 6s 351ms/step - loss: 0.3815 - accuracy: 0.5565 - val_loss: 0.3472 - val_accuracy: 0.5133\n",
            "Epoch 1/2\n",
            "16/16 [==============================] - 10s 383ms/step - loss: 0.5844 - accuracy: 0.3637 - val_loss: 0.4956 - val_accuracy: 0.5400\n",
            "Epoch 2/2\n",
            "16/16 [==============================] - 6s 395ms/step - loss: 0.4038 - accuracy: 0.5087 - val_loss: 0.3424 - val_accuracy: 0.5452\n",
            "Epoch 1/2\n",
            "16/16 [==============================] - 11s 445ms/step - loss: 0.6055 - accuracy: 0.3360 - val_loss: 0.5181 - val_accuracy: 0.4107\n",
            "Epoch 2/2\n",
            "16/16 [==============================] - 6s 355ms/step - loss: 0.4687 - accuracy: 0.5116 - val_loss: 0.4140 - val_accuracy: 0.5185\n",
            "Epoch 1/2\n",
            "16/16 [==============================] - 11s 533ms/step - loss: 0.5886 - accuracy: 0.3532 - val_loss: 0.4954 - val_accuracy: 0.4630\n",
            "Epoch 2/2\n",
            "16/16 [==============================] - 5s 317ms/step - loss: 0.4297 - accuracy: 0.4869 - val_loss: 0.3889 - val_accuracy: 0.5133\n",
            "Epoch 1/2\n",
            "16/16 [==============================] - 10s 474ms/step - loss: 0.5774 - accuracy: 0.3747 - val_loss: 0.5042 - val_accuracy: 0.4784\n",
            "Epoch 2/2\n",
            "16/16 [==============================] - 6s 368ms/step - loss: 0.4132 - accuracy: 0.5208 - val_loss: 0.3419 - val_accuracy: 0.5678\n",
            "Epoch 1/2\n",
            "16/16 [==============================] - 9s 374ms/step - loss: 0.5863 - accuracy: 0.3881 - val_loss: 0.5199 - val_accuracy: 0.4671\n",
            "Epoch 2/2\n",
            "16/16 [==============================] - 8s 491ms/step - loss: 0.4675 - accuracy: 0.5087 - val_loss: 0.4086 - val_accuracy: 0.5647\n"
          ]
        },
        {
          "output_type": "execute_result",
          "data": {
            "text/plain": [
              "('Average accuracy = 0.46549815498154984',\n",
              " 'Standard deviation = 0.060228196292100834',\n",
              " 'Best accuracy = 0.5387453874538746')"
            ]
          },
          "metadata": {},
          "execution_count": 78
        }
      ]
    },
    {
      "cell_type": "markdown",
      "source": [
        "**Table to summarize results**"
      ],
      "metadata": {
        "id": "oB7Ju0_OVBQx"
      }
    },
    {
      "cell_type": "code",
      "execution_count": null,
      "metadata": {
        "id": "Bn7JvD-I5Am_"
      },
      "outputs": [],
      "source": [
        "def summary_table(multi_labels, answer, prediction, train):\n",
        "    # compute accuracies by classes in a dictionary\n",
        "    N = len(answer)\n",
        "    d = {ml: [0, 0, 0] for ml in multi_labels}  # [Test Data, Correct Predictions, Training Data]\n",
        "\n",
        "    for i in range(N):\n",
        "        c = ''.join([str(b) for b in answer[i]])\n",
        "        d[c][0] += 1\n",
        "        if all(np.round(prediction[i]) == answer[i]):\n",
        "            d[c][1] += 1\n",
        "        k = ''.join([str(j) for j in train[i]])\n",
        "        d[k][2] += 1\n",
        "\n",
        "    # create table\n",
        "    columns = ['Label', 'Total data', 'Training data', 'Test data', 'Correct predictions', 'Accuracy']\n",
        "    table = [[k, v[0] + v[2], v[2], v[0], v[1], acc(v[1], v[0])] for k, v in d.items()]\n",
        "\n",
        "    return pd.DataFrame(table, columns=columns)"
      ]
    },
    {
      "cell_type": "code",
      "source": [
        "# Computed accuracy by classes\n",
        "multi_labels = data_distribution[list_categories].apply(lambda x: ''.join(x.astype(str)), axis=1)\n",
        "df = summary_table(multi_labels, Y_test, prediction, Y_train)\n",
        "df"
      ],
      "metadata": {
        "colab": {
          "base_uri": "https://localhost:8080/",
          "height": 1000
        },
        "id": "dMhlJqdqx_ky",
        "outputId": "7a46e08b-e581-4e9f-9b00-0a0f2abbfdd1"
      },
      "execution_count": null,
      "outputs": [
        {
          "output_type": "execute_result",
          "data": {
            "text/plain": [
              "              Label  Total data  Training data  Test data  \\\n",
              "0   0.01.00.00.00.0         206            100        106   \n",
              "1   0.00.00.00.01.0         107             55         52   \n",
              "2   0.00.00.00.00.0         106             58         48   \n",
              "3   1.01.00.00.00.0          80             38         42   \n",
              "4   0.01.00.01.00.0          73             37         36   \n",
              "5   0.01.01.00.00.0          64             35         29   \n",
              "6   1.00.00.00.00.0          63             36         27   \n",
              "7   0.00.01.00.00.0          43             18         25   \n",
              "8   0.00.00.01.00.0          36             14         22   \n",
              "9   1.00.01.00.00.0          37             20         17   \n",
              "10  0.00.01.01.00.0          33             18         15   \n",
              "11  1.00.00.01.00.0          27             12         15   \n",
              "12  1.01.00.01.00.0          26             12         14   \n",
              "13  1.00.00.00.01.0          26             13         13   \n",
              "14  1.01.01.00.00.0          24             12         12   \n",
              "15  0.01.00.00.01.0          17              7         10   \n",
              "16  0.00.00.01.01.0          21             12          9   \n",
              "17  1.00.01.01.00.0          19             10          9   \n",
              "18  0.00.01.00.01.0          17              9          8   \n",
              "19  0.01.01.01.00.0          16              8          8   \n",
              "20  1.00.00.01.01.0          10              5          5   \n",
              "21  1.01.00.00.01.0           5              1          4   \n",
              "22  1.00.01.00.01.0           6              3          3   \n",
              "23  1.01.01.01.00.0           8              5          3   \n",
              "24  0.01.00.01.01.0           4              1          3   \n",
              "25  0.01.01.00.01.0           4              2          2   \n",
              "26  0.00.01.01.01.0           2              1          1   \n",
              "27  1.00.01.01.01.0           1              0          1   \n",
              "28  1.01.00.01.01.0           1              0          1   \n",
              "29  0.01.01.01.01.0           1              0          1   \n",
              "30  1.01.01.00.01.0           1              0          1   \n",
              "31  1.01.01.01.01.0           0              0          0   \n",
              "32  0.02.00.00.00.0           0              0          0   \n",
              "33  9.01.09.01.09.0           0              0          0   \n",
              "\n",
              "    Correct predictions  Accuracy  \n",
              "0                    77      72.6  \n",
              "1                    44      84.6  \n",
              "2                    29      60.4  \n",
              "3                    18      42.9  \n",
              "4                    14      38.9  \n",
              "5                    16      55.2  \n",
              "6                    12      44.4  \n",
              "7                    16      64.0  \n",
              "8                     9      40.9  \n",
              "9                     7      41.2  \n",
              "10                    2      13.3  \n",
              "11                   10      66.7  \n",
              "12                    9      64.3  \n",
              "13                    2      15.4  \n",
              "14                    3      25.0  \n",
              "15                    1      10.0  \n",
              "16                    6      66.7  \n",
              "17                    6      66.7  \n",
              "18                    2      25.0  \n",
              "19                    0       0.0  \n",
              "20                    4      80.0  \n",
              "21                    0       0.0  \n",
              "22                    0       0.0  \n",
              "23                    1      33.3  \n",
              "24                    0       0.0  \n",
              "25                    0       0.0  \n",
              "26                    0       0.0  \n",
              "27                    0       0.0  \n",
              "28                    0       0.0  \n",
              "29                    0       0.0  \n",
              "30                    0       0.0  \n",
              "31                    0       0.0  \n",
              "32                    0       0.0  \n",
              "33                    0       0.0  "
            ],
            "text/html": [
              "\n",
              "  <div id=\"df-1ba25204-7d3f-4800-8fbb-31c5ae77afcf\" class=\"colab-df-container\">\n",
              "    <div>\n",
              "<style scoped>\n",
              "    .dataframe tbody tr th:only-of-type {\n",
              "        vertical-align: middle;\n",
              "    }\n",
              "\n",
              "    .dataframe tbody tr th {\n",
              "        vertical-align: top;\n",
              "    }\n",
              "\n",
              "    .dataframe thead th {\n",
              "        text-align: right;\n",
              "    }\n",
              "</style>\n",
              "<table border=\"1\" class=\"dataframe\">\n",
              "  <thead>\n",
              "    <tr style=\"text-align: right;\">\n",
              "      <th></th>\n",
              "      <th>Label</th>\n",
              "      <th>Total data</th>\n",
              "      <th>Training data</th>\n",
              "      <th>Test data</th>\n",
              "      <th>Correct predictions</th>\n",
              "      <th>Accuracy</th>\n",
              "    </tr>\n",
              "  </thead>\n",
              "  <tbody>\n",
              "    <tr>\n",
              "      <th>0</th>\n",
              "      <td>0.01.00.00.00.0</td>\n",
              "      <td>206</td>\n",
              "      <td>100</td>\n",
              "      <td>106</td>\n",
              "      <td>77</td>\n",
              "      <td>72.6</td>\n",
              "    </tr>\n",
              "    <tr>\n",
              "      <th>1</th>\n",
              "      <td>0.00.00.00.01.0</td>\n",
              "      <td>107</td>\n",
              "      <td>55</td>\n",
              "      <td>52</td>\n",
              "      <td>44</td>\n",
              "      <td>84.6</td>\n",
              "    </tr>\n",
              "    <tr>\n",
              "      <th>2</th>\n",
              "      <td>0.00.00.00.00.0</td>\n",
              "      <td>106</td>\n",
              "      <td>58</td>\n",
              "      <td>48</td>\n",
              "      <td>29</td>\n",
              "      <td>60.4</td>\n",
              "    </tr>\n",
              "    <tr>\n",
              "      <th>3</th>\n",
              "      <td>1.01.00.00.00.0</td>\n",
              "      <td>80</td>\n",
              "      <td>38</td>\n",
              "      <td>42</td>\n",
              "      <td>18</td>\n",
              "      <td>42.9</td>\n",
              "    </tr>\n",
              "    <tr>\n",
              "      <th>4</th>\n",
              "      <td>0.01.00.01.00.0</td>\n",
              "      <td>73</td>\n",
              "      <td>37</td>\n",
              "      <td>36</td>\n",
              "      <td>14</td>\n",
              "      <td>38.9</td>\n",
              "    </tr>\n",
              "    <tr>\n",
              "      <th>5</th>\n",
              "      <td>0.01.01.00.00.0</td>\n",
              "      <td>64</td>\n",
              "      <td>35</td>\n",
              "      <td>29</td>\n",
              "      <td>16</td>\n",
              "      <td>55.2</td>\n",
              "    </tr>\n",
              "    <tr>\n",
              "      <th>6</th>\n",
              "      <td>1.00.00.00.00.0</td>\n",
              "      <td>63</td>\n",
              "      <td>36</td>\n",
              "      <td>27</td>\n",
              "      <td>12</td>\n",
              "      <td>44.4</td>\n",
              "    </tr>\n",
              "    <tr>\n",
              "      <th>7</th>\n",
              "      <td>0.00.01.00.00.0</td>\n",
              "      <td>43</td>\n",
              "      <td>18</td>\n",
              "      <td>25</td>\n",
              "      <td>16</td>\n",
              "      <td>64.0</td>\n",
              "    </tr>\n",
              "    <tr>\n",
              "      <th>8</th>\n",
              "      <td>0.00.00.01.00.0</td>\n",
              "      <td>36</td>\n",
              "      <td>14</td>\n",
              "      <td>22</td>\n",
              "      <td>9</td>\n",
              "      <td>40.9</td>\n",
              "    </tr>\n",
              "    <tr>\n",
              "      <th>9</th>\n",
              "      <td>1.00.01.00.00.0</td>\n",
              "      <td>37</td>\n",
              "      <td>20</td>\n",
              "      <td>17</td>\n",
              "      <td>7</td>\n",
              "      <td>41.2</td>\n",
              "    </tr>\n",
              "    <tr>\n",
              "      <th>10</th>\n",
              "      <td>0.00.01.01.00.0</td>\n",
              "      <td>33</td>\n",
              "      <td>18</td>\n",
              "      <td>15</td>\n",
              "      <td>2</td>\n",
              "      <td>13.3</td>\n",
              "    </tr>\n",
              "    <tr>\n",
              "      <th>11</th>\n",
              "      <td>1.00.00.01.00.0</td>\n",
              "      <td>27</td>\n",
              "      <td>12</td>\n",
              "      <td>15</td>\n",
              "      <td>10</td>\n",
              "      <td>66.7</td>\n",
              "    </tr>\n",
              "    <tr>\n",
              "      <th>12</th>\n",
              "      <td>1.01.00.01.00.0</td>\n",
              "      <td>26</td>\n",
              "      <td>12</td>\n",
              "      <td>14</td>\n",
              "      <td>9</td>\n",
              "      <td>64.3</td>\n",
              "    </tr>\n",
              "    <tr>\n",
              "      <th>13</th>\n",
              "      <td>1.00.00.00.01.0</td>\n",
              "      <td>26</td>\n",
              "      <td>13</td>\n",
              "      <td>13</td>\n",
              "      <td>2</td>\n",
              "      <td>15.4</td>\n",
              "    </tr>\n",
              "    <tr>\n",
              "      <th>14</th>\n",
              "      <td>1.01.01.00.00.0</td>\n",
              "      <td>24</td>\n",
              "      <td>12</td>\n",
              "      <td>12</td>\n",
              "      <td>3</td>\n",
              "      <td>25.0</td>\n",
              "    </tr>\n",
              "    <tr>\n",
              "      <th>15</th>\n",
              "      <td>0.01.00.00.01.0</td>\n",
              "      <td>17</td>\n",
              "      <td>7</td>\n",
              "      <td>10</td>\n",
              "      <td>1</td>\n",
              "      <td>10.0</td>\n",
              "    </tr>\n",
              "    <tr>\n",
              "      <th>16</th>\n",
              "      <td>0.00.00.01.01.0</td>\n",
              "      <td>21</td>\n",
              "      <td>12</td>\n",
              "      <td>9</td>\n",
              "      <td>6</td>\n",
              "      <td>66.7</td>\n",
              "    </tr>\n",
              "    <tr>\n",
              "      <th>17</th>\n",
              "      <td>1.00.01.01.00.0</td>\n",
              "      <td>19</td>\n",
              "      <td>10</td>\n",
              "      <td>9</td>\n",
              "      <td>6</td>\n",
              "      <td>66.7</td>\n",
              "    </tr>\n",
              "    <tr>\n",
              "      <th>18</th>\n",
              "      <td>0.00.01.00.01.0</td>\n",
              "      <td>17</td>\n",
              "      <td>9</td>\n",
              "      <td>8</td>\n",
              "      <td>2</td>\n",
              "      <td>25.0</td>\n",
              "    </tr>\n",
              "    <tr>\n",
              "      <th>19</th>\n",
              "      <td>0.01.01.01.00.0</td>\n",
              "      <td>16</td>\n",
              "      <td>8</td>\n",
              "      <td>8</td>\n",
              "      <td>0</td>\n",
              "      <td>0.0</td>\n",
              "    </tr>\n",
              "    <tr>\n",
              "      <th>20</th>\n",
              "      <td>1.00.00.01.01.0</td>\n",
              "      <td>10</td>\n",
              "      <td>5</td>\n",
              "      <td>5</td>\n",
              "      <td>4</td>\n",
              "      <td>80.0</td>\n",
              "    </tr>\n",
              "    <tr>\n",
              "      <th>21</th>\n",
              "      <td>1.01.00.00.01.0</td>\n",
              "      <td>5</td>\n",
              "      <td>1</td>\n",
              "      <td>4</td>\n",
              "      <td>0</td>\n",
              "      <td>0.0</td>\n",
              "    </tr>\n",
              "    <tr>\n",
              "      <th>22</th>\n",
              "      <td>1.00.01.00.01.0</td>\n",
              "      <td>6</td>\n",
              "      <td>3</td>\n",
              "      <td>3</td>\n",
              "      <td>0</td>\n",
              "      <td>0.0</td>\n",
              "    </tr>\n",
              "    <tr>\n",
              "      <th>23</th>\n",
              "      <td>1.01.01.01.00.0</td>\n",
              "      <td>8</td>\n",
              "      <td>5</td>\n",
              "      <td>3</td>\n",
              "      <td>1</td>\n",
              "      <td>33.3</td>\n",
              "    </tr>\n",
              "    <tr>\n",
              "      <th>24</th>\n",
              "      <td>0.01.00.01.01.0</td>\n",
              "      <td>4</td>\n",
              "      <td>1</td>\n",
              "      <td>3</td>\n",
              "      <td>0</td>\n",
              "      <td>0.0</td>\n",
              "    </tr>\n",
              "    <tr>\n",
              "      <th>25</th>\n",
              "      <td>0.01.01.00.01.0</td>\n",
              "      <td>4</td>\n",
              "      <td>2</td>\n",
              "      <td>2</td>\n",
              "      <td>0</td>\n",
              "      <td>0.0</td>\n",
              "    </tr>\n",
              "    <tr>\n",
              "      <th>26</th>\n",
              "      <td>0.00.01.01.01.0</td>\n",
              "      <td>2</td>\n",
              "      <td>1</td>\n",
              "      <td>1</td>\n",
              "      <td>0</td>\n",
              "      <td>0.0</td>\n",
              "    </tr>\n",
              "    <tr>\n",
              "      <th>27</th>\n",
              "      <td>1.00.01.01.01.0</td>\n",
              "      <td>1</td>\n",
              "      <td>0</td>\n",
              "      <td>1</td>\n",
              "      <td>0</td>\n",
              "      <td>0.0</td>\n",
              "    </tr>\n",
              "    <tr>\n",
              "      <th>28</th>\n",
              "      <td>1.01.00.01.01.0</td>\n",
              "      <td>1</td>\n",
              "      <td>0</td>\n",
              "      <td>1</td>\n",
              "      <td>0</td>\n",
              "      <td>0.0</td>\n",
              "    </tr>\n",
              "    <tr>\n",
              "      <th>29</th>\n",
              "      <td>0.01.01.01.01.0</td>\n",
              "      <td>1</td>\n",
              "      <td>0</td>\n",
              "      <td>1</td>\n",
              "      <td>0</td>\n",
              "      <td>0.0</td>\n",
              "    </tr>\n",
              "    <tr>\n",
              "      <th>30</th>\n",
              "      <td>1.01.01.00.01.0</td>\n",
              "      <td>1</td>\n",
              "      <td>0</td>\n",
              "      <td>1</td>\n",
              "      <td>0</td>\n",
              "      <td>0.0</td>\n",
              "    </tr>\n",
              "    <tr>\n",
              "      <th>31</th>\n",
              "      <td>1.01.01.01.01.0</td>\n",
              "      <td>0</td>\n",
              "      <td>0</td>\n",
              "      <td>0</td>\n",
              "      <td>0</td>\n",
              "      <td>0.0</td>\n",
              "    </tr>\n",
              "    <tr>\n",
              "      <th>32</th>\n",
              "      <td>0.02.00.00.00.0</td>\n",
              "      <td>0</td>\n",
              "      <td>0</td>\n",
              "      <td>0</td>\n",
              "      <td>0</td>\n",
              "      <td>0.0</td>\n",
              "    </tr>\n",
              "    <tr>\n",
              "      <th>33</th>\n",
              "      <td>9.01.09.01.09.0</td>\n",
              "      <td>0</td>\n",
              "      <td>0</td>\n",
              "      <td>0</td>\n",
              "      <td>0</td>\n",
              "      <td>0.0</td>\n",
              "    </tr>\n",
              "  </tbody>\n",
              "</table>\n",
              "</div>\n",
              "    <div class=\"colab-df-buttons\">\n",
              "\n",
              "  <div class=\"colab-df-container\">\n",
              "    <button class=\"colab-df-convert\" onclick=\"convertToInteractive('df-1ba25204-7d3f-4800-8fbb-31c5ae77afcf')\"\n",
              "            title=\"Convert this dataframe to an interactive table.\"\n",
              "            style=\"display:none;\">\n",
              "\n",
              "  <svg xmlns=\"http://www.w3.org/2000/svg\" height=\"24px\" viewBox=\"0 -960 960 960\">\n",
              "    <path d=\"M120-120v-720h720v720H120Zm60-500h600v-160H180v160Zm220 220h160v-160H400v160Zm0 220h160v-160H400v160ZM180-400h160v-160H180v160Zm440 0h160v-160H620v160ZM180-180h160v-160H180v160Zm440 0h160v-160H620v160Z\"/>\n",
              "  </svg>\n",
              "    </button>\n",
              "\n",
              "  <style>\n",
              "    .colab-df-container {\n",
              "      display:flex;\n",
              "      gap: 12px;\n",
              "    }\n",
              "\n",
              "    .colab-df-convert {\n",
              "      background-color: #E8F0FE;\n",
              "      border: none;\n",
              "      border-radius: 50%;\n",
              "      cursor: pointer;\n",
              "      display: none;\n",
              "      fill: #1967D2;\n",
              "      height: 32px;\n",
              "      padding: 0 0 0 0;\n",
              "      width: 32px;\n",
              "    }\n",
              "\n",
              "    .colab-df-convert:hover {\n",
              "      background-color: #E2EBFA;\n",
              "      box-shadow: 0px 1px 2px rgba(60, 64, 67, 0.3), 0px 1px 3px 1px rgba(60, 64, 67, 0.15);\n",
              "      fill: #174EA6;\n",
              "    }\n",
              "\n",
              "    .colab-df-buttons div {\n",
              "      margin-bottom: 4px;\n",
              "    }\n",
              "\n",
              "    [theme=dark] .colab-df-convert {\n",
              "      background-color: #3B4455;\n",
              "      fill: #D2E3FC;\n",
              "    }\n",
              "\n",
              "    [theme=dark] .colab-df-convert:hover {\n",
              "      background-color: #434B5C;\n",
              "      box-shadow: 0px 1px 3px 1px rgba(0, 0, 0, 0.15);\n",
              "      filter: drop-shadow(0px 1px 2px rgba(0, 0, 0, 0.3));\n",
              "      fill: #FFFFFF;\n",
              "    }\n",
              "  </style>\n",
              "\n",
              "    <script>\n",
              "      const buttonEl =\n",
              "        document.querySelector('#df-1ba25204-7d3f-4800-8fbb-31c5ae77afcf button.colab-df-convert');\n",
              "      buttonEl.style.display =\n",
              "        google.colab.kernel.accessAllowed ? 'block' : 'none';\n",
              "\n",
              "      async function convertToInteractive(key) {\n",
              "        const element = document.querySelector('#df-1ba25204-7d3f-4800-8fbb-31c5ae77afcf');\n",
              "        const dataTable =\n",
              "          await google.colab.kernel.invokeFunction('convertToInteractive',\n",
              "                                                    [key], {});\n",
              "        if (!dataTable) return;\n",
              "\n",
              "        const docLinkHtml = 'Like what you see? Visit the ' +\n",
              "          '<a target=\"_blank\" href=https://colab.research.google.com/notebooks/data_table.ipynb>data table notebook</a>'\n",
              "          + ' to learn more about interactive tables.';\n",
              "        element.innerHTML = '';\n",
              "        dataTable['output_type'] = 'display_data';\n",
              "        await google.colab.output.renderOutput(dataTable, element);\n",
              "        const docLink = document.createElement('div');\n",
              "        docLink.innerHTML = docLinkHtml;\n",
              "        element.appendChild(docLink);\n",
              "      }\n",
              "    </script>\n",
              "  </div>\n",
              "\n",
              "\n",
              "<div id=\"df-c304473a-9e0c-4b81-94d2-06ab9e84236c\">\n",
              "  <button class=\"colab-df-quickchart\" onclick=\"quickchart('df-c304473a-9e0c-4b81-94d2-06ab9e84236c')\"\n",
              "            title=\"Suggest charts\"\n",
              "            style=\"display:none;\">\n",
              "\n",
              "<svg xmlns=\"http://www.w3.org/2000/svg\" height=\"24px\"viewBox=\"0 0 24 24\"\n",
              "     width=\"24px\">\n",
              "    <g>\n",
              "        <path d=\"M19 3H5c-1.1 0-2 .9-2 2v14c0 1.1.9 2 2 2h14c1.1 0 2-.9 2-2V5c0-1.1-.9-2-2-2zM9 17H7v-7h2v7zm4 0h-2V7h2v10zm4 0h-2v-4h2v4z\"/>\n",
              "    </g>\n",
              "</svg>\n",
              "  </button>\n",
              "\n",
              "<style>\n",
              "  .colab-df-quickchart {\n",
              "      --bg-color: #E8F0FE;\n",
              "      --fill-color: #1967D2;\n",
              "      --hover-bg-color: #E2EBFA;\n",
              "      --hover-fill-color: #174EA6;\n",
              "      --disabled-fill-color: #AAA;\n",
              "      --disabled-bg-color: #DDD;\n",
              "  }\n",
              "\n",
              "  [theme=dark] .colab-df-quickchart {\n",
              "      --bg-color: #3B4455;\n",
              "      --fill-color: #D2E3FC;\n",
              "      --hover-bg-color: #434B5C;\n",
              "      --hover-fill-color: #FFFFFF;\n",
              "      --disabled-bg-color: #3B4455;\n",
              "      --disabled-fill-color: #666;\n",
              "  }\n",
              "\n",
              "  .colab-df-quickchart {\n",
              "    background-color: var(--bg-color);\n",
              "    border: none;\n",
              "    border-radius: 50%;\n",
              "    cursor: pointer;\n",
              "    display: none;\n",
              "    fill: var(--fill-color);\n",
              "    height: 32px;\n",
              "    padding: 0;\n",
              "    width: 32px;\n",
              "  }\n",
              "\n",
              "  .colab-df-quickchart:hover {\n",
              "    background-color: var(--hover-bg-color);\n",
              "    box-shadow: 0 1px 2px rgba(60, 64, 67, 0.3), 0 1px 3px 1px rgba(60, 64, 67, 0.15);\n",
              "    fill: var(--button-hover-fill-color);\n",
              "  }\n",
              "\n",
              "  .colab-df-quickchart-complete:disabled,\n",
              "  .colab-df-quickchart-complete:disabled:hover {\n",
              "    background-color: var(--disabled-bg-color);\n",
              "    fill: var(--disabled-fill-color);\n",
              "    box-shadow: none;\n",
              "  }\n",
              "\n",
              "  .colab-df-spinner {\n",
              "    border: 2px solid var(--fill-color);\n",
              "    border-color: transparent;\n",
              "    border-bottom-color: var(--fill-color);\n",
              "    animation:\n",
              "      spin 1s steps(1) infinite;\n",
              "  }\n",
              "\n",
              "  @keyframes spin {\n",
              "    0% {\n",
              "      border-color: transparent;\n",
              "      border-bottom-color: var(--fill-color);\n",
              "      border-left-color: var(--fill-color);\n",
              "    }\n",
              "    20% {\n",
              "      border-color: transparent;\n",
              "      border-left-color: var(--fill-color);\n",
              "      border-top-color: var(--fill-color);\n",
              "    }\n",
              "    30% {\n",
              "      border-color: transparent;\n",
              "      border-left-color: var(--fill-color);\n",
              "      border-top-color: var(--fill-color);\n",
              "      border-right-color: var(--fill-color);\n",
              "    }\n",
              "    40% {\n",
              "      border-color: transparent;\n",
              "      border-right-color: var(--fill-color);\n",
              "      border-top-color: var(--fill-color);\n",
              "    }\n",
              "    60% {\n",
              "      border-color: transparent;\n",
              "      border-right-color: var(--fill-color);\n",
              "    }\n",
              "    80% {\n",
              "      border-color: transparent;\n",
              "      border-right-color: var(--fill-color);\n",
              "      border-bottom-color: var(--fill-color);\n",
              "    }\n",
              "    90% {\n",
              "      border-color: transparent;\n",
              "      border-bottom-color: var(--fill-color);\n",
              "    }\n",
              "  }\n",
              "</style>\n",
              "\n",
              "  <script>\n",
              "    async function quickchart(key) {\n",
              "      const quickchartButtonEl =\n",
              "        document.querySelector('#' + key + ' button');\n",
              "      quickchartButtonEl.disabled = true;  // To prevent multiple clicks.\n",
              "      quickchartButtonEl.classList.add('colab-df-spinner');\n",
              "      try {\n",
              "        const charts = await google.colab.kernel.invokeFunction(\n",
              "            'suggestCharts', [key], {});\n",
              "      } catch (error) {\n",
              "        console.error('Error during call to suggestCharts:', error);\n",
              "      }\n",
              "      quickchartButtonEl.classList.remove('colab-df-spinner');\n",
              "      quickchartButtonEl.classList.add('colab-df-quickchart-complete');\n",
              "    }\n",
              "    (() => {\n",
              "      let quickchartButtonEl =\n",
              "        document.querySelector('#df-c304473a-9e0c-4b81-94d2-06ab9e84236c button');\n",
              "      quickchartButtonEl.style.display =\n",
              "        google.colab.kernel.accessAllowed ? 'block' : 'none';\n",
              "    })();\n",
              "  </script>\n",
              "</div>\n",
              "\n",
              "  <div id=\"id_88476ab1-ab85-4495-a84b-7620a7d57a66\">\n",
              "    <style>\n",
              "      .colab-df-generate {\n",
              "        background-color: #E8F0FE;\n",
              "        border: none;\n",
              "        border-radius: 50%;\n",
              "        cursor: pointer;\n",
              "        display: none;\n",
              "        fill: #1967D2;\n",
              "        height: 32px;\n",
              "        padding: 0 0 0 0;\n",
              "        width: 32px;\n",
              "      }\n",
              "\n",
              "      .colab-df-generate:hover {\n",
              "        background-color: #E2EBFA;\n",
              "        box-shadow: 0px 1px 2px rgba(60, 64, 67, 0.3), 0px 1px 3px 1px rgba(60, 64, 67, 0.15);\n",
              "        fill: #174EA6;\n",
              "      }\n",
              "\n",
              "      [theme=dark] .colab-df-generate {\n",
              "        background-color: #3B4455;\n",
              "        fill: #D2E3FC;\n",
              "      }\n",
              "\n",
              "      [theme=dark] .colab-df-generate:hover {\n",
              "        background-color: #434B5C;\n",
              "        box-shadow: 0px 1px 3px 1px rgba(0, 0, 0, 0.15);\n",
              "        filter: drop-shadow(0px 1px 2px rgba(0, 0, 0, 0.3));\n",
              "        fill: #FFFFFF;\n",
              "      }\n",
              "    </style>\n",
              "    <button class=\"colab-df-generate\" onclick=\"generateWithVariable('df')\"\n",
              "            title=\"Generate code using this dataframe.\"\n",
              "            style=\"display:none;\">\n",
              "\n",
              "  <svg xmlns=\"http://www.w3.org/2000/svg\" height=\"24px\"viewBox=\"0 0 24 24\"\n",
              "       width=\"24px\">\n",
              "    <path d=\"M7,19H8.4L18.45,9,17,7.55,7,17.6ZM5,21V16.75L18.45,3.32a2,2,0,0,1,2.83,0l1.4,1.43a1.91,1.91,0,0,1,.58,1.4,1.91,1.91,0,0,1-.58,1.4L9.25,21ZM18.45,9,17,7.55Zm-12,3A5.31,5.31,0,0,0,4.9,8.1,5.31,5.31,0,0,0,1,6.5,5.31,5.31,0,0,0,4.9,4.9,5.31,5.31,0,0,0,6.5,1,5.31,5.31,0,0,0,8.1,4.9,5.31,5.31,0,0,0,12,6.5,5.46,5.46,0,0,0,6.5,12Z\"/>\n",
              "  </svg>\n",
              "    </button>\n",
              "    <script>\n",
              "      (() => {\n",
              "      const buttonEl =\n",
              "        document.querySelector('#id_88476ab1-ab85-4495-a84b-7620a7d57a66 button.colab-df-generate');\n",
              "      buttonEl.style.display =\n",
              "        google.colab.kernel.accessAllowed ? 'block' : 'none';\n",
              "\n",
              "      buttonEl.onclick = () => {\n",
              "        google.colab.notebook.generateWithVariable('df');\n",
              "      }\n",
              "      })();\n",
              "    </script>\n",
              "  </div>\n",
              "\n",
              "    </div>\n",
              "  </div>\n"
            ],
            "application/vnd.google.colaboratory.intrinsic+json": {
              "type": "dataframe",
              "variable_name": "df",
              "summary": "{\n  \"name\": \"df\",\n  \"rows\": 34,\n  \"fields\": [\n    {\n      \"column\": \"Label\",\n      \"properties\": {\n        \"dtype\": \"string\",\n        \"num_unique_values\": 34,\n        \"samples\": [\n          \"0.01.00.00.01.0\",\n          \"0.01.01.01.00.0\",\n          \"1.00.01.01.01.0\"\n        ],\n        \"semantic_type\": \"\",\n        \"description\": \"\"\n      }\n    },\n    {\n      \"column\": \"Total data\",\n      \"properties\": {\n        \"dtype\": \"number\",\n        \"std\": 42,\n        \"min\": 0,\n        \"max\": 206,\n        \"num_unique_values\": 26,\n        \"samples\": [\n          36,\n          19,\n          206\n        ],\n        \"semantic_type\": \"\",\n        \"description\": \"\"\n      }\n    },\n    {\n      \"column\": \"Training data\",\n      \"properties\": {\n        \"dtype\": \"number\",\n        \"std\": 21,\n        \"min\": 0,\n        \"max\": 100,\n        \"num_unique_values\": 21,\n        \"samples\": [\n          100,\n          1,\n          8\n        ],\n        \"semantic_type\": \"\",\n        \"description\": \"\"\n      }\n    },\n    {\n      \"column\": \"Test data\",\n      \"properties\": {\n        \"dtype\": \"number\",\n        \"std\": 21,\n        \"min\": 0,\n        \"max\": 106,\n        \"num_unique_values\": 23,\n        \"samples\": [\n          9,\n          17,\n          106\n        ],\n        \"semantic_type\": \"\",\n        \"description\": \"\"\n      }\n    },\n    {\n      \"column\": \"Correct predictions\",\n      \"properties\": {\n        \"dtype\": \"number\",\n        \"std\": 15,\n        \"min\": 0,\n        \"max\": 77,\n        \"num_unique_values\": 16,\n        \"samples\": [\n          77,\n          44,\n          16\n        ],\n        \"semantic_type\": \"\",\n        \"description\": \"\"\n      }\n    },\n    {\n      \"column\": \"Accuracy\",\n      \"properties\": {\n        \"dtype\": \"number\",\n        \"std\": 29.427015520168577,\n        \"min\": 0.0,\n        \"max\": 84.6,\n        \"num_unique_values\": 19,\n        \"samples\": [\n          72.6,\n          55.2,\n          66.7\n        ],\n        \"semantic_type\": \"\",\n        \"description\": \"\"\n      }\n    }\n  ]\n}"
            }
          },
          "metadata": {},
          "execution_count": 80
        }
      ]
    },
    {
      "cell_type": "code",
      "source": [
        "np.mean(df[\"Test data\"])"
      ],
      "metadata": {
        "colab": {
          "base_uri": "https://localhost:8080/"
        },
        "id": "dt9vpwfRpdGX",
        "outputId": "e41752ec-cad4-48ab-b7d1-c08d7adde71d"
      },
      "execution_count": null,
      "outputs": [
        {
          "output_type": "execute_result",
          "data": {
            "text/plain": [
              "15.941176470588236"
            ]
          },
          "metadata": {},
          "execution_count": 81
        }
      ]
    },
    {
      "cell_type": "code",
      "source": [
        "np.mean(df[\"Correct predictions\"])"
      ],
      "metadata": {
        "colab": {
          "base_uri": "https://localhost:8080/"
        },
        "id": "7j_GpB0CpPIp",
        "outputId": "4613772b-6d57-4d45-f05e-6e547dff685a"
      },
      "execution_count": null,
      "outputs": [
        {
          "output_type": "execute_result",
          "data": {
            "text/plain": [
              "8.470588235294118"
            ]
          },
          "metadata": {},
          "execution_count": 82
        }
      ]
    },
    {
      "cell_type": "markdown",
      "source": [
        "**Project Results Summary:**\n",
        "- Average multi-label accuracy: Approximately 0.47%, indicating a moderate ability of the model to correctly predict product attributes based on consumer reviews.\n",
        "- Standard deviation: Approximately 0.06%, indicating that variability in accuracy across different labels or test models is low.\n",
        "- Best accuracy: Achieved an accuracy of around 0.54%, indicating that at least one label or model achieved a higher rate of correct predictions.\n",
        "\n",
        "The model's accuracy varies across different label combinations. Some combinations, like \"00001\", show high accuracy (84.6%), while others have an accuracy of 0.0%, indicating that the model struggles to predict certain label combinations correctly. High-performing combinations generally have more instances, suggesting that the model benefits from having more data to learn from.\n",
        "\n",
        "Generally, it can be seen that combinations with multiple categories performed worse, than those with one or two categories.\n",
        "Model failed to make any correct predictions for some combinations. This could be due to the small number of instances in the training set for these combinations, making it difficult for the model to learn and generalize.\n",
        "\n",
        "My model is not perfect, it has room for improvement. Challenges such as dealing with unbalanced data were encountered, which affected the model's ability to accurately classify reviews into relevant categories. However, these results provide valuable insights into the model's strengths and weaknesses, guiding future improvements in handling label imbalances and enhancing overall prediction accuracy.\n"
      ],
      "metadata": {
        "id": "Wfw3LMnzHAbi"
      }
    }
  ],
  "metadata": {
    "colab": {
      "provenance": []
    },
    "kernelspec": {
      "display_name": "Python 3",
      "name": "python3"
    },
    "language_info": {
      "name": "python"
    }
  },
  "nbformat": 4,
  "nbformat_minor": 0
}